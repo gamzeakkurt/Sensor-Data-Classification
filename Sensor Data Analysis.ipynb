{
 "cells": [
  {
   "cell_type": "markdown",
   "id": "5b0c6017",
   "metadata": {},
   "source": [
    "# Import Libraries"
   ]
  },
  {
   "cell_type": "markdown",
   "id": "a3c24f3d",
   "metadata": {},
   "source": [
    "In this section, we import the necessary libraries to the project."
   ]
  },
  {
   "cell_type": "code",
   "execution_count": 71,
   "id": "3d64d67f",
   "metadata": {},
   "outputs": [],
   "source": [
    "import numpy as np \n",
    "import pandas as pd \n",
    "import seaborn as sns\n",
    "import matplotlib.pyplot as plt\n",
    "from datetime import time\n",
    "from datetime import datetime\n",
    "from sklearn.linear_model import LinearRegression\n",
    "from sklearn.ensemble import RandomForestClassifier\n",
    "from sklearn.tree import DecisionTreeClassifier\n",
    "from sklearn.linear_model import LogisticRegression\n",
    "from sklearn.svm import SVC\n",
    "from sklearn.naive_bayes import GaussianNB\n",
    "from sklearn.model_selection import train_test_split\n",
    "from sklearn.neighbors import KNeighborsClassifier\n",
    "from sklearn.metrics import r2_score, mean_absolute_error, mean_squared_error\n",
    "import warnings\n",
    "warnings.filterwarnings('ignore')"
   ]
  },
  {
   "cell_type": "markdown",
   "id": "51dd1284",
   "metadata": {},
   "source": [
    "# Data Information"
   ]
  },
  {
   "cell_type": "markdown",
   "id": "2c5b6363",
   "metadata": {},
   "source": [
    "This section includes subtitles like reading csv data file using pandas library, getting information about data, and showing statistical result for data."
   ]
  },
  {
   "cell_type": "markdown",
   "id": "f9e12a5b",
   "metadata": {},
   "source": [
    "**Read File**"
   ]
  },
  {
   "cell_type": "code",
   "execution_count": 3,
   "id": "e1e6eacd",
   "metadata": {},
   "outputs": [],
   "source": [
    "data=pd.read_csv('test_data.csv')"
   ]
  },
  {
   "cell_type": "markdown",
   "id": "6fc73b5b",
   "metadata": {},
   "source": [
    "**Read 5 Rows**"
   ]
  },
  {
   "cell_type": "code",
   "execution_count": 4,
   "id": "c6978677",
   "metadata": {},
   "outputs": [
    {
     "data": {
      "text/html": [
       "<div>\n",
       "<style scoped>\n",
       "    .dataframe tbody tr th:only-of-type {\n",
       "        vertical-align: middle;\n",
       "    }\n",
       "\n",
       "    .dataframe tbody tr th {\n",
       "        vertical-align: top;\n",
       "    }\n",
       "\n",
       "    .dataframe thead th {\n",
       "        text-align: right;\n",
       "    }\n",
       "</style>\n",
       "<table border=\"1\" class=\"dataframe\">\n",
       "  <thead>\n",
       "    <tr style=\"text-align: right;\">\n",
       "      <th></th>\n",
       "      <th>Unnamed: 0</th>\n",
       "      <th>parameter_name</th>\n",
       "      <th>bool_v</th>\n",
       "      <th>long_v</th>\n",
       "      <th>dbl_v</th>\n",
       "      <th>date</th>\n",
       "      <th>time</th>\n",
       "    </tr>\n",
       "  </thead>\n",
       "  <tbody>\n",
       "    <tr>\n",
       "      <th>0</th>\n",
       "      <td>1</td>\n",
       "      <td>ProcessId</td>\n",
       "      <td>NaN</td>\n",
       "      <td>2.111210e+10</td>\n",
       "      <td>NaN</td>\n",
       "      <td>2021-11-21</td>\n",
       "      <td>06:11:59</td>\n",
       "    </tr>\n",
       "    <tr>\n",
       "      <th>1</th>\n",
       "      <td>2</td>\n",
       "      <td>s1</td>\n",
       "      <td>NaN</td>\n",
       "      <td>NaN</td>\n",
       "      <td>22.01</td>\n",
       "      <td>2021-11-21</td>\n",
       "      <td>06:11:59</td>\n",
       "    </tr>\n",
       "    <tr>\n",
       "      <th>2</th>\n",
       "      <td>3</td>\n",
       "      <td>s2</td>\n",
       "      <td>NaN</td>\n",
       "      <td>NaN</td>\n",
       "      <td>20.59</td>\n",
       "      <td>2021-11-21</td>\n",
       "      <td>06:11:59</td>\n",
       "    </tr>\n",
       "    <tr>\n",
       "      <th>3</th>\n",
       "      <td>4</td>\n",
       "      <td>s3</td>\n",
       "      <td>NaN</td>\n",
       "      <td>NaN</td>\n",
       "      <td>21.03</td>\n",
       "      <td>2021-11-21</td>\n",
       "      <td>06:11:59</td>\n",
       "    </tr>\n",
       "    <tr>\n",
       "      <th>4</th>\n",
       "      <td>5</td>\n",
       "      <td>s4</td>\n",
       "      <td>NaN</td>\n",
       "      <td>NaN</td>\n",
       "      <td>25.03</td>\n",
       "      <td>2021-11-21</td>\n",
       "      <td>06:11:59</td>\n",
       "    </tr>\n",
       "  </tbody>\n",
       "</table>\n",
       "</div>"
      ],
      "text/plain": [
       "   Unnamed: 0 parameter_name  bool_v        long_v  dbl_v        date  \\\n",
       "0           1      ProcessId     NaN  2.111210e+10    NaN  2021-11-21   \n",
       "1           2             s1     NaN           NaN  22.01  2021-11-21   \n",
       "2           3             s2     NaN           NaN  20.59  2021-11-21   \n",
       "3           4             s3     NaN           NaN  21.03  2021-11-21   \n",
       "4           5             s4     NaN           NaN  25.03  2021-11-21   \n",
       "\n",
       "       time  \n",
       "0  06:11:59  \n",
       "1  06:11:59  \n",
       "2  06:11:59  \n",
       "3  06:11:59  \n",
       "4  06:11:59  "
      ]
     },
     "execution_count": 4,
     "metadata": {},
     "output_type": "execute_result"
    }
   ],
   "source": [
    "data.head()"
   ]
  },
  {
   "cell_type": "markdown",
   "id": "3c83910e",
   "metadata": {},
   "source": [
    "**Show data frame shape**"
   ]
  },
  {
   "cell_type": "code",
   "execution_count": 5,
   "id": "93c4c3ee",
   "metadata": {
    "scrolled": true
   },
   "outputs": [
    {
     "data": {
      "text/plain": [
       "(154375, 7)"
      ]
     },
     "execution_count": 5,
     "metadata": {},
     "output_type": "execute_result"
    }
   ],
   "source": [
    "data.shape"
   ]
  },
  {
   "cell_type": "markdown",
   "id": "4ee0f617",
   "metadata": {},
   "source": [
    "**Show data frame columns**"
   ]
  },
  {
   "cell_type": "code",
   "execution_count": 6,
   "id": "a53dbdda",
   "metadata": {},
   "outputs": [
    {
     "data": {
      "text/plain": [
       "Index(['Unnamed: 0', 'parameter_name', 'bool_v', 'long_v', 'dbl_v', 'date',\n",
       "       'time'],\n",
       "      dtype='object')"
      ]
     },
     "execution_count": 6,
     "metadata": {},
     "output_type": "execute_result"
    }
   ],
   "source": [
    "data.columns"
   ]
  },
  {
   "cell_type": "markdown",
   "id": "afaf5762",
   "metadata": {},
   "source": [
    "**Remove Unnamed Column**"
   ]
  },
  {
   "cell_type": "code",
   "execution_count": 7,
   "id": "a668d43a",
   "metadata": {},
   "outputs": [],
   "source": [
    "data = data.loc[:, ~data.columns.str.contains('^Unnamed')]   "
   ]
  },
  {
   "cell_type": "code",
   "execution_count": 8,
   "id": "51ceaa17",
   "metadata": {},
   "outputs": [
    {
     "data": {
      "text/html": [
       "<div>\n",
       "<style scoped>\n",
       "    .dataframe tbody tr th:only-of-type {\n",
       "        vertical-align: middle;\n",
       "    }\n",
       "\n",
       "    .dataframe tbody tr th {\n",
       "        vertical-align: top;\n",
       "    }\n",
       "\n",
       "    .dataframe thead th {\n",
       "        text-align: right;\n",
       "    }\n",
       "</style>\n",
       "<table border=\"1\" class=\"dataframe\">\n",
       "  <thead>\n",
       "    <tr style=\"text-align: right;\">\n",
       "      <th></th>\n",
       "      <th>parameter_name</th>\n",
       "      <th>bool_v</th>\n",
       "      <th>long_v</th>\n",
       "      <th>dbl_v</th>\n",
       "      <th>date</th>\n",
       "      <th>time</th>\n",
       "    </tr>\n",
       "  </thead>\n",
       "  <tbody>\n",
       "    <tr>\n",
       "      <th>0</th>\n",
       "      <td>ProcessId</td>\n",
       "      <td>NaN</td>\n",
       "      <td>2.111210e+10</td>\n",
       "      <td>NaN</td>\n",
       "      <td>2021-11-21</td>\n",
       "      <td>06:11:59</td>\n",
       "    </tr>\n",
       "    <tr>\n",
       "      <th>1</th>\n",
       "      <td>s1</td>\n",
       "      <td>NaN</td>\n",
       "      <td>NaN</td>\n",
       "      <td>22.01</td>\n",
       "      <td>2021-11-21</td>\n",
       "      <td>06:11:59</td>\n",
       "    </tr>\n",
       "    <tr>\n",
       "      <th>2</th>\n",
       "      <td>s2</td>\n",
       "      <td>NaN</td>\n",
       "      <td>NaN</td>\n",
       "      <td>20.59</td>\n",
       "      <td>2021-11-21</td>\n",
       "      <td>06:11:59</td>\n",
       "    </tr>\n",
       "    <tr>\n",
       "      <th>3</th>\n",
       "      <td>s3</td>\n",
       "      <td>NaN</td>\n",
       "      <td>NaN</td>\n",
       "      <td>21.03</td>\n",
       "      <td>2021-11-21</td>\n",
       "      <td>06:11:59</td>\n",
       "    </tr>\n",
       "    <tr>\n",
       "      <th>4</th>\n",
       "      <td>s4</td>\n",
       "      <td>NaN</td>\n",
       "      <td>NaN</td>\n",
       "      <td>25.03</td>\n",
       "      <td>2021-11-21</td>\n",
       "      <td>06:11:59</td>\n",
       "    </tr>\n",
       "  </tbody>\n",
       "</table>\n",
       "</div>"
      ],
      "text/plain": [
       "  parameter_name  bool_v        long_v  dbl_v        date      time\n",
       "0      ProcessId     NaN  2.111210e+10    NaN  2021-11-21  06:11:59\n",
       "1             s1     NaN           NaN  22.01  2021-11-21  06:11:59\n",
       "2             s2     NaN           NaN  20.59  2021-11-21  06:11:59\n",
       "3             s3     NaN           NaN  21.03  2021-11-21  06:11:59\n",
       "4             s4     NaN           NaN  25.03  2021-11-21  06:11:59"
      ]
     },
     "execution_count": 8,
     "metadata": {},
     "output_type": "execute_result"
    }
   ],
   "source": [
    "data.head()"
   ]
  },
  {
   "cell_type": "markdown",
   "id": "431d5e33",
   "metadata": {},
   "source": [
    "**Data Types**"
   ]
  },
  {
   "cell_type": "code",
   "execution_count": 9,
   "id": "92e114f4",
   "metadata": {},
   "outputs": [
    {
     "data": {
      "text/plain": [
       "parameter_name     object\n",
       "bool_v            float64\n",
       "long_v            float64\n",
       "dbl_v             float64\n",
       "date               object\n",
       "time               object\n",
       "dtype: object"
      ]
     },
     "execution_count": 9,
     "metadata": {},
     "output_type": "execute_result"
    }
   ],
   "source": [
    "data.dtypes"
   ]
  },
  {
   "cell_type": "markdown",
   "id": "8aa9ff14",
   "metadata": {},
   "source": [
    "**Checking Null Values**"
   ]
  },
  {
   "cell_type": "code",
   "execution_count": 10,
   "id": "9f870774",
   "metadata": {},
   "outputs": [
    {
     "data": {
      "text/plain": [
       "parameter_name         0\n",
       "bool_v            154375\n",
       "long_v            143340\n",
       "dbl_v              11035\n",
       "date                   0\n",
       "time                   0\n",
       "dtype: int64"
      ]
     },
     "execution_count": 10,
     "metadata": {},
     "output_type": "execute_result"
    }
   ],
   "source": [
    "data.isnull().sum()"
   ]
  },
  {
   "cell_type": "code",
   "execution_count": 11,
   "id": "1ea1cd5f",
   "metadata": {},
   "outputs": [
    {
     "data": {
      "text/plain": [
       "parameter_name    False\n",
       "bool_v             True\n",
       "long_v             True\n",
       "dbl_v              True\n",
       "date              False\n",
       "time              False\n",
       "dtype: bool"
      ]
     },
     "execution_count": 11,
     "metadata": {},
     "output_type": "execute_result"
    }
   ],
   "source": [
    "data.isnull().any()"
   ]
  },
  {
   "cell_type": "markdown",
   "id": "c9fce183",
   "metadata": {},
   "source": [
    "**Replacing Null Values**"
   ]
  },
  {
   "cell_type": "code",
   "execution_count": 12,
   "id": "0d20e4e3",
   "metadata": {},
   "outputs": [],
   "source": [
    "data=data.fillna(0)"
   ]
  },
  {
   "cell_type": "code",
   "execution_count": 13,
   "id": "72ae5dbd",
   "metadata": {},
   "outputs": [
    {
     "data": {
      "text/html": [
       "<div>\n",
       "<style scoped>\n",
       "    .dataframe tbody tr th:only-of-type {\n",
       "        vertical-align: middle;\n",
       "    }\n",
       "\n",
       "    .dataframe tbody tr th {\n",
       "        vertical-align: top;\n",
       "    }\n",
       "\n",
       "    .dataframe thead th {\n",
       "        text-align: right;\n",
       "    }\n",
       "</style>\n",
       "<table border=\"1\" class=\"dataframe\">\n",
       "  <thead>\n",
       "    <tr style=\"text-align: right;\">\n",
       "      <th></th>\n",
       "      <th>parameter_name</th>\n",
       "      <th>bool_v</th>\n",
       "      <th>long_v</th>\n",
       "      <th>dbl_v</th>\n",
       "      <th>date</th>\n",
       "      <th>time</th>\n",
       "    </tr>\n",
       "  </thead>\n",
       "  <tbody>\n",
       "    <tr>\n",
       "      <th>0</th>\n",
       "      <td>ProcessId</td>\n",
       "      <td>0.0</td>\n",
       "      <td>2.111210e+10</td>\n",
       "      <td>0.00</td>\n",
       "      <td>2021-11-21</td>\n",
       "      <td>06:11:59</td>\n",
       "    </tr>\n",
       "    <tr>\n",
       "      <th>1</th>\n",
       "      <td>s1</td>\n",
       "      <td>0.0</td>\n",
       "      <td>0.000000e+00</td>\n",
       "      <td>22.01</td>\n",
       "      <td>2021-11-21</td>\n",
       "      <td>06:11:59</td>\n",
       "    </tr>\n",
       "    <tr>\n",
       "      <th>2</th>\n",
       "      <td>s2</td>\n",
       "      <td>0.0</td>\n",
       "      <td>0.000000e+00</td>\n",
       "      <td>20.59</td>\n",
       "      <td>2021-11-21</td>\n",
       "      <td>06:11:59</td>\n",
       "    </tr>\n",
       "    <tr>\n",
       "      <th>3</th>\n",
       "      <td>s3</td>\n",
       "      <td>0.0</td>\n",
       "      <td>0.000000e+00</td>\n",
       "      <td>21.03</td>\n",
       "      <td>2021-11-21</td>\n",
       "      <td>06:11:59</td>\n",
       "    </tr>\n",
       "    <tr>\n",
       "      <th>4</th>\n",
       "      <td>s4</td>\n",
       "      <td>0.0</td>\n",
       "      <td>0.000000e+00</td>\n",
       "      <td>25.03</td>\n",
       "      <td>2021-11-21</td>\n",
       "      <td>06:11:59</td>\n",
       "    </tr>\n",
       "    <tr>\n",
       "      <th>...</th>\n",
       "      <td>...</td>\n",
       "      <td>...</td>\n",
       "      <td>...</td>\n",
       "      <td>...</td>\n",
       "      <td>...</td>\n",
       "      <td>...</td>\n",
       "    </tr>\n",
       "    <tr>\n",
       "      <th>154370</th>\n",
       "      <td>s5</td>\n",
       "      <td>0.0</td>\n",
       "      <td>0.000000e+00</td>\n",
       "      <td>22.24</td>\n",
       "      <td>2021-11-18</td>\n",
       "      <td>02:02:42</td>\n",
       "    </tr>\n",
       "    <tr>\n",
       "      <th>154371</th>\n",
       "      <td>ProcessId</td>\n",
       "      <td>0.0</td>\n",
       "      <td>2.111180e+10</td>\n",
       "      <td>0.00</td>\n",
       "      <td>2021-11-18</td>\n",
       "      <td>05:15:07</td>\n",
       "    </tr>\n",
       "    <tr>\n",
       "      <th>154372</th>\n",
       "      <td>s4</td>\n",
       "      <td>0.0</td>\n",
       "      <td>0.000000e+00</td>\n",
       "      <td>24.72</td>\n",
       "      <td>2021-11-20</td>\n",
       "      <td>15:27:47</td>\n",
       "    </tr>\n",
       "    <tr>\n",
       "      <th>154373</th>\n",
       "      <td>s1</td>\n",
       "      <td>0.0</td>\n",
       "      <td>0.000000e+00</td>\n",
       "      <td>23.59</td>\n",
       "      <td>2021-11-18</td>\n",
       "      <td>01:35:49</td>\n",
       "    </tr>\n",
       "    <tr>\n",
       "      <th>154374</th>\n",
       "      <td>s4</td>\n",
       "      <td>0.0</td>\n",
       "      <td>0.000000e+00</td>\n",
       "      <td>25.83</td>\n",
       "      <td>2021-11-17</td>\n",
       "      <td>20:20:28</td>\n",
       "    </tr>\n",
       "  </tbody>\n",
       "</table>\n",
       "<p>154375 rows × 6 columns</p>\n",
       "</div>"
      ],
      "text/plain": [
       "       parameter_name  bool_v        long_v  dbl_v        date      time\n",
       "0           ProcessId     0.0  2.111210e+10   0.00  2021-11-21  06:11:59\n",
       "1                  s1     0.0  0.000000e+00  22.01  2021-11-21  06:11:59\n",
       "2                  s2     0.0  0.000000e+00  20.59  2021-11-21  06:11:59\n",
       "3                  s3     0.0  0.000000e+00  21.03  2021-11-21  06:11:59\n",
       "4                  s4     0.0  0.000000e+00  25.03  2021-11-21  06:11:59\n",
       "...               ...     ...           ...    ...         ...       ...\n",
       "154370             s5     0.0  0.000000e+00  22.24  2021-11-18  02:02:42\n",
       "154371      ProcessId     0.0  2.111180e+10   0.00  2021-11-18  05:15:07\n",
       "154372             s4     0.0  0.000000e+00  24.72  2021-11-20  15:27:47\n",
       "154373             s1     0.0  0.000000e+00  23.59  2021-11-18  01:35:49\n",
       "154374             s4     0.0  0.000000e+00  25.83  2021-11-17  20:20:28\n",
       "\n",
       "[154375 rows x 6 columns]"
      ]
     },
     "execution_count": 13,
     "metadata": {},
     "output_type": "execute_result"
    }
   ],
   "source": [
    "data"
   ]
  },
  {
   "cell_type": "markdown",
   "id": "4221ab11",
   "metadata": {},
   "source": [
    "**Checking Duplicate Values**"
   ]
  },
  {
   "cell_type": "code",
   "execution_count": 14,
   "id": "45a4772d",
   "metadata": {},
   "outputs": [
    {
     "data": {
      "text/plain": [
       "2681"
      ]
     },
     "execution_count": 14,
     "metadata": {},
     "output_type": "execute_result"
    }
   ],
   "source": [
    "data.duplicated().sum()"
   ]
  },
  {
   "cell_type": "markdown",
   "id": "63ec2bb9",
   "metadata": {},
   "source": [
    "**Dropping Duplicate Values**"
   ]
  },
  {
   "cell_type": "code",
   "execution_count": 15,
   "id": "e469b35d",
   "metadata": {},
   "outputs": [],
   "source": [
    "data = data.drop_duplicates()"
   ]
  },
  {
   "cell_type": "code",
   "execution_count": 16,
   "id": "621f024f",
   "metadata": {},
   "outputs": [
    {
     "data": {
      "text/plain": [
       "0"
      ]
     },
     "execution_count": 16,
     "metadata": {},
     "output_type": "execute_result"
    }
   ],
   "source": [
    "data.duplicated().sum()"
   ]
  },
  {
   "cell_type": "markdown",
   "id": "a1ba1ac6",
   "metadata": {},
   "source": [
    "**Checking Column Values**"
   ]
  },
  {
   "cell_type": "code",
   "execution_count": 17,
   "id": "2500cc04",
   "metadata": {},
   "outputs": [
    {
     "data": {
      "text/plain": [
       "<bound method Series.unique of 0.0    151694\n",
       "Name: bool_v, dtype: int64>"
      ]
     },
     "execution_count": 17,
     "metadata": {},
     "output_type": "execute_result"
    }
   ],
   "source": [
    "data['bool_v'].value_counts().unique"
   ]
  },
  {
   "cell_type": "markdown",
   "id": "22680f68",
   "metadata": {},
   "source": [
    "bool_v column includes nan value so we remove it in the data"
   ]
  },
  {
   "cell_type": "code",
   "execution_count": 18,
   "id": "c0f0656b",
   "metadata": {},
   "outputs": [],
   "source": [
    "data=data.drop(['bool_v'],axis=1)"
   ]
  },
  {
   "cell_type": "code",
   "execution_count": 19,
   "id": "acf9c1ba",
   "metadata": {},
   "outputs": [
    {
     "data": {
      "text/plain": [
       "<bound method Series.unique of 0.000000e+00    140858\n",
       "2.111160e+10       148\n",
       "2.111160e+10        92\n",
       "2.111160e+10        65\n",
       "2.111160e+10        63\n",
       "                 ...  \n",
       "2.111180e+10        13\n",
       "2.111200e+10        13\n",
       "2.111190e+10        13\n",
       "2.111160e+10        11\n",
       "2.111160e+10         1\n",
       "Name: long_v, Length: 490, dtype: int64>"
      ]
     },
     "execution_count": 19,
     "metadata": {},
     "output_type": "execute_result"
    }
   ],
   "source": [
    "data['long_v'].value_counts().unique"
   ]
  },
  {
   "cell_type": "code",
   "execution_count": 20,
   "id": "154884dd",
   "metadata": {},
   "outputs": [
    {
     "data": {
      "text/plain": [
       "<bound method Series.unique of 0.00     10836\n",
       "20.31      859\n",
       "20.08      858\n",
       "20.06      837\n",
       "19.83      819\n",
       "         ...  \n",
       "54.32        1\n",
       "57.19        1\n",
       "28.03        1\n",
       "51.80        1\n",
       "53.44        1\n",
       "Name: dbl_v, Length: 1711, dtype: int64>"
      ]
     },
     "execution_count": 20,
     "metadata": {},
     "output_type": "execute_result"
    }
   ],
   "source": [
    "data['dbl_v'].value_counts().unique"
   ]
  },
  {
   "cell_type": "markdown",
   "id": "f2116aa2",
   "metadata": {},
   "source": [
    "**Statistical Result**"
   ]
  },
  {
   "cell_type": "code",
   "execution_count": 21,
   "id": "61a5e41c",
   "metadata": {},
   "outputs": [
    {
     "data": {
      "text/html": [
       "<div>\n",
       "<style scoped>\n",
       "    .dataframe tbody tr th:only-of-type {\n",
       "        vertical-align: middle;\n",
       "    }\n",
       "\n",
       "    .dataframe tbody tr th {\n",
       "        vertical-align: top;\n",
       "    }\n",
       "\n",
       "    .dataframe thead th {\n",
       "        text-align: right;\n",
       "    }\n",
       "</style>\n",
       "<table border=\"1\" class=\"dataframe\">\n",
       "  <thead>\n",
       "    <tr style=\"text-align: right;\">\n",
       "      <th></th>\n",
       "      <th>long_v</th>\n",
       "      <th>dbl_v</th>\n",
       "    </tr>\n",
       "  </thead>\n",
       "  <tbody>\n",
       "    <tr>\n",
       "      <th>count</th>\n",
       "      <td>1.516940e+05</td>\n",
       "      <td>151694.000000</td>\n",
       "    </tr>\n",
       "    <tr>\n",
       "      <th>mean</th>\n",
       "      <td>1.508078e+09</td>\n",
       "      <td>20.531142</td>\n",
       "    </tr>\n",
       "    <tr>\n",
       "      <th>std</th>\n",
       "      <td>5.437276e+09</td>\n",
       "      <td>8.261018</td>\n",
       "    </tr>\n",
       "    <tr>\n",
       "      <th>min</th>\n",
       "      <td>0.000000e+00</td>\n",
       "      <td>0.000000</td>\n",
       "    </tr>\n",
       "    <tr>\n",
       "      <th>25%</th>\n",
       "      <td>0.000000e+00</td>\n",
       "      <td>18.790000</td>\n",
       "    </tr>\n",
       "    <tr>\n",
       "      <th>50%</th>\n",
       "      <td>0.000000e+00</td>\n",
       "      <td>20.310000</td>\n",
       "    </tr>\n",
       "    <tr>\n",
       "      <th>75%</th>\n",
       "      <td>0.000000e+00</td>\n",
       "      <td>22.210000</td>\n",
       "    </tr>\n",
       "    <tr>\n",
       "      <th>max</th>\n",
       "      <td>2.111210e+10</td>\n",
       "      <td>58.240000</td>\n",
       "    </tr>\n",
       "  </tbody>\n",
       "</table>\n",
       "</div>"
      ],
      "text/plain": [
       "             long_v          dbl_v\n",
       "count  1.516940e+05  151694.000000\n",
       "mean   1.508078e+09      20.531142\n",
       "std    5.437276e+09       8.261018\n",
       "min    0.000000e+00       0.000000\n",
       "25%    0.000000e+00      18.790000\n",
       "50%    0.000000e+00      20.310000\n",
       "75%    0.000000e+00      22.210000\n",
       "max    2.111210e+10      58.240000"
      ]
     },
     "execution_count": 21,
     "metadata": {},
     "output_type": "execute_result"
    }
   ],
   "source": [
    "data.describe()"
   ]
  },
  {
   "cell_type": "markdown",
   "id": "009ac2b1",
   "metadata": {},
   "source": [
    "## Feature Extraction"
   ]
  },
  {
   "cell_type": "markdown",
   "id": "e740afd9",
   "metadata": {},
   "source": [
    "We derived new features from existing features. The objective is to provide do a better visualization of the data."
   ]
  },
  {
   "cell_type": "markdown",
   "id": "7e32be09",
   "metadata": {},
   "source": [
    "**Extracting Year in Data**"
   ]
  },
  {
   "cell_type": "code",
   "execution_count": 22,
   "id": "3ea8c610",
   "metadata": {},
   "outputs": [
    {
     "data": {
      "text/html": [
       "<div>\n",
       "<style scoped>\n",
       "    .dataframe tbody tr th:only-of-type {\n",
       "        vertical-align: middle;\n",
       "    }\n",
       "\n",
       "    .dataframe tbody tr th {\n",
       "        vertical-align: top;\n",
       "    }\n",
       "\n",
       "    .dataframe thead th {\n",
       "        text-align: right;\n",
       "    }\n",
       "</style>\n",
       "<table border=\"1\" class=\"dataframe\">\n",
       "  <thead>\n",
       "    <tr style=\"text-align: right;\">\n",
       "      <th></th>\n",
       "      <th>date</th>\n",
       "      <th>year</th>\n",
       "    </tr>\n",
       "  </thead>\n",
       "  <tbody>\n",
       "    <tr>\n",
       "      <th>0</th>\n",
       "      <td>2021-11-21</td>\n",
       "      <td>2021</td>\n",
       "    </tr>\n",
       "    <tr>\n",
       "      <th>1</th>\n",
       "      <td>2021-11-21</td>\n",
       "      <td>2021</td>\n",
       "    </tr>\n",
       "    <tr>\n",
       "      <th>2</th>\n",
       "      <td>2021-11-21</td>\n",
       "      <td>2021</td>\n",
       "    </tr>\n",
       "    <tr>\n",
       "      <th>3</th>\n",
       "      <td>2021-11-21</td>\n",
       "      <td>2021</td>\n",
       "    </tr>\n",
       "    <tr>\n",
       "      <th>4</th>\n",
       "      <td>2021-11-21</td>\n",
       "      <td>2021</td>\n",
       "    </tr>\n",
       "  </tbody>\n",
       "</table>\n",
       "</div>"
      ],
      "text/plain": [
       "         date  year\n",
       "0  2021-11-21  2021\n",
       "1  2021-11-21  2021\n",
       "2  2021-11-21  2021\n",
       "3  2021-11-21  2021\n",
       "4  2021-11-21  2021"
      ]
     },
     "execution_count": 22,
     "metadata": {},
     "output_type": "execute_result"
    }
   ],
   "source": [
    "data['year'] = pd.to_datetime(data['date'], errors='coerce').dt.year\n",
    "data[['date','year']][:5]"
   ]
  },
  {
   "cell_type": "markdown",
   "id": "fb59d0fb",
   "metadata": {},
   "source": [
    "**Extracting Month in Data**"
   ]
  },
  {
   "cell_type": "code",
   "execution_count": 23,
   "id": "c39543cd",
   "metadata": {},
   "outputs": [
    {
     "data": {
      "text/html": [
       "<div>\n",
       "<style scoped>\n",
       "    .dataframe tbody tr th:only-of-type {\n",
       "        vertical-align: middle;\n",
       "    }\n",
       "\n",
       "    .dataframe tbody tr th {\n",
       "        vertical-align: top;\n",
       "    }\n",
       "\n",
       "    .dataframe thead th {\n",
       "        text-align: right;\n",
       "    }\n",
       "</style>\n",
       "<table border=\"1\" class=\"dataframe\">\n",
       "  <thead>\n",
       "    <tr style=\"text-align: right;\">\n",
       "      <th></th>\n",
       "      <th>date</th>\n",
       "      <th>month</th>\n",
       "    </tr>\n",
       "  </thead>\n",
       "  <tbody>\n",
       "    <tr>\n",
       "      <th>0</th>\n",
       "      <td>2021-11-21</td>\n",
       "      <td>11</td>\n",
       "    </tr>\n",
       "    <tr>\n",
       "      <th>1</th>\n",
       "      <td>2021-11-21</td>\n",
       "      <td>11</td>\n",
       "    </tr>\n",
       "    <tr>\n",
       "      <th>2</th>\n",
       "      <td>2021-11-21</td>\n",
       "      <td>11</td>\n",
       "    </tr>\n",
       "    <tr>\n",
       "      <th>3</th>\n",
       "      <td>2021-11-21</td>\n",
       "      <td>11</td>\n",
       "    </tr>\n",
       "    <tr>\n",
       "      <th>4</th>\n",
       "      <td>2021-11-21</td>\n",
       "      <td>11</td>\n",
       "    </tr>\n",
       "  </tbody>\n",
       "</table>\n",
       "</div>"
      ],
      "text/plain": [
       "         date  month\n",
       "0  2021-11-21     11\n",
       "1  2021-11-21     11\n",
       "2  2021-11-21     11\n",
       "3  2021-11-21     11\n",
       "4  2021-11-21     11"
      ]
     },
     "execution_count": 23,
     "metadata": {},
     "output_type": "execute_result"
    }
   ],
   "source": [
    "data['month'] = pd.to_datetime(data['date'], errors='coerce').dt.month\n",
    "data[['date','month']][:5]"
   ]
  },
  {
   "cell_type": "markdown",
   "id": "fb218bcc",
   "metadata": {},
   "source": [
    "**Extracting Day in Data**"
   ]
  },
  {
   "cell_type": "code",
   "execution_count": 24,
   "id": "cc0605e5",
   "metadata": {},
   "outputs": [
    {
     "data": {
      "text/html": [
       "<div>\n",
       "<style scoped>\n",
       "    .dataframe tbody tr th:only-of-type {\n",
       "        vertical-align: middle;\n",
       "    }\n",
       "\n",
       "    .dataframe tbody tr th {\n",
       "        vertical-align: top;\n",
       "    }\n",
       "\n",
       "    .dataframe thead th {\n",
       "        text-align: right;\n",
       "    }\n",
       "</style>\n",
       "<table border=\"1\" class=\"dataframe\">\n",
       "  <thead>\n",
       "    <tr style=\"text-align: right;\">\n",
       "      <th></th>\n",
       "      <th>date</th>\n",
       "      <th>day</th>\n",
       "    </tr>\n",
       "  </thead>\n",
       "  <tbody>\n",
       "    <tr>\n",
       "      <th>0</th>\n",
       "      <td>2021-11-21</td>\n",
       "      <td>21</td>\n",
       "    </tr>\n",
       "    <tr>\n",
       "      <th>1</th>\n",
       "      <td>2021-11-21</td>\n",
       "      <td>21</td>\n",
       "    </tr>\n",
       "    <tr>\n",
       "      <th>2</th>\n",
       "      <td>2021-11-21</td>\n",
       "      <td>21</td>\n",
       "    </tr>\n",
       "    <tr>\n",
       "      <th>3</th>\n",
       "      <td>2021-11-21</td>\n",
       "      <td>21</td>\n",
       "    </tr>\n",
       "    <tr>\n",
       "      <th>4</th>\n",
       "      <td>2021-11-21</td>\n",
       "      <td>21</td>\n",
       "    </tr>\n",
       "  </tbody>\n",
       "</table>\n",
       "</div>"
      ],
      "text/plain": [
       "         date  day\n",
       "0  2021-11-21   21\n",
       "1  2021-11-21   21\n",
       "2  2021-11-21   21\n",
       "3  2021-11-21   21\n",
       "4  2021-11-21   21"
      ]
     },
     "execution_count": 24,
     "metadata": {},
     "output_type": "execute_result"
    }
   ],
   "source": [
    "data['day'] = pd.to_datetime(data['date'], errors='coerce').dt.day\n",
    "data[['date','day']][:5]"
   ]
  },
  {
   "cell_type": "markdown",
   "id": "6a06e710",
   "metadata": {},
   "source": [
    "**Extracting Hour in Data**"
   ]
  },
  {
   "cell_type": "code",
   "execution_count": 25,
   "id": "62ec6408",
   "metadata": {},
   "outputs": [
    {
     "data": {
      "text/html": [
       "<div>\n",
       "<style scoped>\n",
       "    .dataframe tbody tr th:only-of-type {\n",
       "        vertical-align: middle;\n",
       "    }\n",
       "\n",
       "    .dataframe tbody tr th {\n",
       "        vertical-align: top;\n",
       "    }\n",
       "\n",
       "    .dataframe thead th {\n",
       "        text-align: right;\n",
       "    }\n",
       "</style>\n",
       "<table border=\"1\" class=\"dataframe\">\n",
       "  <thead>\n",
       "    <tr style=\"text-align: right;\">\n",
       "      <th></th>\n",
       "      <th>time</th>\n",
       "      <th>hour</th>\n",
       "    </tr>\n",
       "  </thead>\n",
       "  <tbody>\n",
       "    <tr>\n",
       "      <th>0</th>\n",
       "      <td>06:11:59</td>\n",
       "      <td>6</td>\n",
       "    </tr>\n",
       "    <tr>\n",
       "      <th>1</th>\n",
       "      <td>06:11:59</td>\n",
       "      <td>6</td>\n",
       "    </tr>\n",
       "    <tr>\n",
       "      <th>2</th>\n",
       "      <td>06:11:59</td>\n",
       "      <td>6</td>\n",
       "    </tr>\n",
       "    <tr>\n",
       "      <th>3</th>\n",
       "      <td>06:11:59</td>\n",
       "      <td>6</td>\n",
       "    </tr>\n",
       "    <tr>\n",
       "      <th>4</th>\n",
       "      <td>06:11:59</td>\n",
       "      <td>6</td>\n",
       "    </tr>\n",
       "  </tbody>\n",
       "</table>\n",
       "</div>"
      ],
      "text/plain": [
       "       time  hour\n",
       "0  06:11:59     6\n",
       "1  06:11:59     6\n",
       "2  06:11:59     6\n",
       "3  06:11:59     6\n",
       "4  06:11:59     6"
      ]
     },
     "execution_count": 25,
     "metadata": {},
     "output_type": "execute_result"
    }
   ],
   "source": [
    "data['hour'] = pd.to_datetime(data['time'], errors='coerce').dt.hour\n",
    "data[['time','hour']][:5]"
   ]
  },
  {
   "cell_type": "markdown",
   "id": "48535ccd",
   "metadata": {},
   "source": [
    "**Extracting Weekend in Data**"
   ]
  },
  {
   "cell_type": "code",
   "execution_count": 26,
   "id": "3c6ea98c",
   "metadata": {},
   "outputs": [
    {
     "data": {
      "text/html": [
       "<div>\n",
       "<style scoped>\n",
       "    .dataframe tbody tr th:only-of-type {\n",
       "        vertical-align: middle;\n",
       "    }\n",
       "\n",
       "    .dataframe tbody tr th {\n",
       "        vertical-align: top;\n",
       "    }\n",
       "\n",
       "    .dataframe thead th {\n",
       "        text-align: right;\n",
       "    }\n",
       "</style>\n",
       "<table border=\"1\" class=\"dataframe\">\n",
       "  <thead>\n",
       "    <tr style=\"text-align: right;\">\n",
       "      <th></th>\n",
       "      <th>date</th>\n",
       "      <th>is_weekend</th>\n",
       "    </tr>\n",
       "  </thead>\n",
       "  <tbody>\n",
       "    <tr>\n",
       "      <th>0</th>\n",
       "      <td>2021-11-21</td>\n",
       "      <td>1</td>\n",
       "    </tr>\n",
       "    <tr>\n",
       "      <th>1</th>\n",
       "      <td>2021-11-21</td>\n",
       "      <td>1</td>\n",
       "    </tr>\n",
       "    <tr>\n",
       "      <th>2</th>\n",
       "      <td>2021-11-21</td>\n",
       "      <td>1</td>\n",
       "    </tr>\n",
       "    <tr>\n",
       "      <th>3</th>\n",
       "      <td>2021-11-21</td>\n",
       "      <td>1</td>\n",
       "    </tr>\n",
       "    <tr>\n",
       "      <th>4</th>\n",
       "      <td>2021-11-21</td>\n",
       "      <td>1</td>\n",
       "    </tr>\n",
       "  </tbody>\n",
       "</table>\n",
       "</div>"
      ],
      "text/plain": [
       "         date  is_weekend\n",
       "0  2021-11-21           1\n",
       "1  2021-11-21           1\n",
       "2  2021-11-21           1\n",
       "3  2021-11-21           1\n",
       "4  2021-11-21           1"
      ]
     },
     "execution_count": 26,
     "metadata": {},
     "output_type": "execute_result"
    }
   ],
   "source": [
    "#data['date'] = pd.to_datetime(data['date'], errors='coerce')\n",
    "data['is_weekend'] = (pd.to_datetime(data['date'],errors='coerce').dt.dayofweek>=5).astype('int')\n",
    "           \n",
    "data[['date','is_weekend']][:5]"
   ]
  },
  {
   "cell_type": "markdown",
   "id": "3e7300ce",
   "metadata": {},
   "source": [
    "**Extracting Working Hours in Data**"
   ]
  },
  {
   "cell_type": "code",
   "execution_count": 27,
   "id": "72f3b39d",
   "metadata": {},
   "outputs": [],
   "source": [
    "data['working_hours'] = data['hour'].isin(np.arange(8,21,1)).astype('int')\n"
   ]
  },
  {
   "cell_type": "markdown",
   "id": "362ebc26",
   "metadata": {},
   "source": [
    "**Extracting Weekday in Data**"
   ]
  },
  {
   "cell_type": "code",
   "execution_count": 28,
   "id": "16f7d56b",
   "metadata": {},
   "outputs": [
    {
     "data": {
      "text/html": [
       "<div>\n",
       "<style scoped>\n",
       "    .dataframe tbody tr th:only-of-type {\n",
       "        vertical-align: middle;\n",
       "    }\n",
       "\n",
       "    .dataframe tbody tr th {\n",
       "        vertical-align: top;\n",
       "    }\n",
       "\n",
       "    .dataframe thead th {\n",
       "        text-align: right;\n",
       "    }\n",
       "</style>\n",
       "<table border=\"1\" class=\"dataframe\">\n",
       "  <thead>\n",
       "    <tr style=\"text-align: right;\">\n",
       "      <th></th>\n",
       "      <th>date</th>\n",
       "      <th>weekday</th>\n",
       "    </tr>\n",
       "  </thead>\n",
       "  <tbody>\n",
       "    <tr>\n",
       "      <th>16347</th>\n",
       "      <td>2021-11-20</td>\n",
       "      <td>Saturday</td>\n",
       "    </tr>\n",
       "    <tr>\n",
       "      <th>116047</th>\n",
       "      <td>2021-11-15</td>\n",
       "      <td>Monday</td>\n",
       "    </tr>\n",
       "    <tr>\n",
       "      <th>142096</th>\n",
       "      <td>2021-11-13</td>\n",
       "      <td>Saturday</td>\n",
       "    </tr>\n",
       "    <tr>\n",
       "      <th>117592</th>\n",
       "      <td>2021-11-15</td>\n",
       "      <td>Monday</td>\n",
       "    </tr>\n",
       "    <tr>\n",
       "      <th>99802</th>\n",
       "      <td>2021-11-16</td>\n",
       "      <td>Tuesday</td>\n",
       "    </tr>\n",
       "  </tbody>\n",
       "</table>\n",
       "</div>"
      ],
      "text/plain": [
       "              date   weekday\n",
       "16347   2021-11-20  Saturday\n",
       "116047  2021-11-15    Monday\n",
       "142096  2021-11-13  Saturday\n",
       "117592  2021-11-15    Monday\n",
       "99802   2021-11-16   Tuesday"
      ]
     },
     "execution_count": 28,
     "metadata": {},
     "output_type": "execute_result"
    }
   ],
   "source": [
    "data['weekday'] =pd.to_datetime(data['date'],errors='coerce').dt.strftime('%A')  \n",
    "data[['date','weekday']].sample(5)"
   ]
  },
  {
   "cell_type": "code",
   "execution_count": 29,
   "id": "9c85e683",
   "metadata": {},
   "outputs": [
    {
     "data": {
      "text/html": [
       "<div>\n",
       "<style scoped>\n",
       "    .dataframe tbody tr th:only-of-type {\n",
       "        vertical-align: middle;\n",
       "    }\n",
       "\n",
       "    .dataframe tbody tr th {\n",
       "        vertical-align: top;\n",
       "    }\n",
       "\n",
       "    .dataframe thead th {\n",
       "        text-align: right;\n",
       "    }\n",
       "</style>\n",
       "<table border=\"1\" class=\"dataframe\">\n",
       "  <thead>\n",
       "    <tr style=\"text-align: right;\">\n",
       "      <th></th>\n",
       "      <th>parameter_name</th>\n",
       "      <th>long_v</th>\n",
       "      <th>dbl_v</th>\n",
       "      <th>date</th>\n",
       "      <th>time</th>\n",
       "      <th>year</th>\n",
       "      <th>month</th>\n",
       "      <th>day</th>\n",
       "      <th>hour</th>\n",
       "      <th>is_weekend</th>\n",
       "      <th>working_hours</th>\n",
       "      <th>weekday</th>\n",
       "    </tr>\n",
       "  </thead>\n",
       "  <tbody>\n",
       "    <tr>\n",
       "      <th>0</th>\n",
       "      <td>ProcessId</td>\n",
       "      <td>2.111210e+10</td>\n",
       "      <td>0.00</td>\n",
       "      <td>2021-11-21</td>\n",
       "      <td>06:11:59</td>\n",
       "      <td>2021</td>\n",
       "      <td>11</td>\n",
       "      <td>21</td>\n",
       "      <td>6</td>\n",
       "      <td>1</td>\n",
       "      <td>0</td>\n",
       "      <td>Sunday</td>\n",
       "    </tr>\n",
       "    <tr>\n",
       "      <th>1</th>\n",
       "      <td>s1</td>\n",
       "      <td>0.000000e+00</td>\n",
       "      <td>22.01</td>\n",
       "      <td>2021-11-21</td>\n",
       "      <td>06:11:59</td>\n",
       "      <td>2021</td>\n",
       "      <td>11</td>\n",
       "      <td>21</td>\n",
       "      <td>6</td>\n",
       "      <td>1</td>\n",
       "      <td>0</td>\n",
       "      <td>Sunday</td>\n",
       "    </tr>\n",
       "    <tr>\n",
       "      <th>2</th>\n",
       "      <td>s2</td>\n",
       "      <td>0.000000e+00</td>\n",
       "      <td>20.59</td>\n",
       "      <td>2021-11-21</td>\n",
       "      <td>06:11:59</td>\n",
       "      <td>2021</td>\n",
       "      <td>11</td>\n",
       "      <td>21</td>\n",
       "      <td>6</td>\n",
       "      <td>1</td>\n",
       "      <td>0</td>\n",
       "      <td>Sunday</td>\n",
       "    </tr>\n",
       "    <tr>\n",
       "      <th>3</th>\n",
       "      <td>s3</td>\n",
       "      <td>0.000000e+00</td>\n",
       "      <td>21.03</td>\n",
       "      <td>2021-11-21</td>\n",
       "      <td>06:11:59</td>\n",
       "      <td>2021</td>\n",
       "      <td>11</td>\n",
       "      <td>21</td>\n",
       "      <td>6</td>\n",
       "      <td>1</td>\n",
       "      <td>0</td>\n",
       "      <td>Sunday</td>\n",
       "    </tr>\n",
       "    <tr>\n",
       "      <th>4</th>\n",
       "      <td>s4</td>\n",
       "      <td>0.000000e+00</td>\n",
       "      <td>25.03</td>\n",
       "      <td>2021-11-21</td>\n",
       "      <td>06:11:59</td>\n",
       "      <td>2021</td>\n",
       "      <td>11</td>\n",
       "      <td>21</td>\n",
       "      <td>6</td>\n",
       "      <td>1</td>\n",
       "      <td>0</td>\n",
       "      <td>Sunday</td>\n",
       "    </tr>\n",
       "  </tbody>\n",
       "</table>\n",
       "</div>"
      ],
      "text/plain": [
       "  parameter_name        long_v  dbl_v        date      time  year  month  day  \\\n",
       "0      ProcessId  2.111210e+10   0.00  2021-11-21  06:11:59  2021     11   21   \n",
       "1             s1  0.000000e+00  22.01  2021-11-21  06:11:59  2021     11   21   \n",
       "2             s2  0.000000e+00  20.59  2021-11-21  06:11:59  2021     11   21   \n",
       "3             s3  0.000000e+00  21.03  2021-11-21  06:11:59  2021     11   21   \n",
       "4             s4  0.000000e+00  25.03  2021-11-21  06:11:59  2021     11   21   \n",
       "\n",
       "   hour  is_weekend  working_hours weekday  \n",
       "0     6           1              0  Sunday  \n",
       "1     6           1              0  Sunday  \n",
       "2     6           1              0  Sunday  \n",
       "3     6           1              0  Sunday  \n",
       "4     6           1              0  Sunday  "
      ]
     },
     "execution_count": 29,
     "metadata": {},
     "output_type": "execute_result"
    }
   ],
   "source": [
    "data.head(5)"
   ]
  },
  {
   "cell_type": "markdown",
   "id": "a5f898cd",
   "metadata": {},
   "source": [
    "## Exloratory Data Analysis"
   ]
  },
  {
   "cell_type": "markdown",
   "id": "7eb7532c",
   "metadata": {},
   "source": [
    "**Count plot for all the categorical sensor features**"
   ]
  },
  {
   "cell_type": "code",
   "execution_count": 32,
   "id": "f1554cae",
   "metadata": {},
   "outputs": [
    {
     "data": {
      "text/plain": [
       "<bound method Series.unique of s7           10840\n",
       "s2           10837\n",
       "s6           10837\n",
       "ProcessId    10836\n",
       "s1           10836\n",
       "s11          10836\n",
       "s3           10835\n",
       "s8           10834\n",
       "s13          10834\n",
       "s5           10834\n",
       "s12          10834\n",
       "s9           10834\n",
       "s10          10834\n",
       "s4           10833\n",
       "Name: parameter_name, dtype: int64>"
      ]
     },
     "execution_count": 32,
     "metadata": {},
     "output_type": "execute_result"
    },
    {
     "data": {
      "image/png": "[encoded data removed]",
      "text/plain": [
       "<Figure size 864x288 with 1 Axes>"
      ]
     },
     "metadata": {
      "needs_background": "light"
     },
     "output_type": "display_data"
    }
   ],
   "source": [
    "fig_dims = (12, 4)\n",
    "fig, ax = plt.subplots(figsize=fig_dims)\n",
    "sns.countplot(data['parameter_name'])\n",
    "data['parameter_name'].value_counts().unique"
   ]
  },
  {
   "cell_type": "markdown",
   "id": "7a54a9b2",
   "metadata": {},
   "source": [
    "**Histogram for all the continous features**"
   ]
  },
  {
   "cell_type": "code",
   "execution_count": 33,
   "id": "eacd213c",
   "metadata": {},
   "outputs": [
    {
     "data": {
      "text/plain": [
       "<bound method NDFrame._add_numeric_operations.<locals>.sum of 0.00     10836\n",
       "20.31      859\n",
       "20.08      858\n",
       "20.06      837\n",
       "19.83      819\n",
       "         ...  \n",
       "54.32        1\n",
       "57.19        1\n",
       "28.03        1\n",
       "51.80        1\n",
       "53.44        1\n",
       "Name: dbl_v, Length: 1711, dtype: int64>"
      ]
     },
     "execution_count": 33,
     "metadata": {},
     "output_type": "execute_result"
    },
    {
     "data": {
      "image/png": "[encoded data removed]",
      "text/plain": [
       "<Figure size 576x288 with 1 Axes>"
      ]
     },
     "metadata": {
      "needs_background": "light"
     },
     "output_type": "display_data"
    }
   ],
   "source": [
    "fig_dims = (8, 4)\n",
    "fig, ax = plt.subplots(figsize=fig_dims)\n",
    "sns.histplot(data['dbl_v'],bins=15)\n",
    "data['dbl_v'].value_counts().sum"
   ]
  },
  {
   "cell_type": "code",
   "execution_count": 35,
   "id": "cb0e7e74",
   "metadata": {},
   "outputs": [
    {
     "data": {
      "text/plain": [
       "<bound method Series.unique of 0.000000e+00    140858\n",
       "2.111160e+10       148\n",
       "2.111160e+10        92\n",
       "2.111160e+10        65\n",
       "2.111160e+10        63\n",
       "                 ...  \n",
       "2.111180e+10        13\n",
       "2.111200e+10        13\n",
       "2.111190e+10        13\n",
       "2.111160e+10        11\n",
       "2.111160e+10         1\n",
       "Name: long_v, Length: 490, dtype: int64>"
      ]
     },
     "execution_count": 35,
     "metadata": {},
     "output_type": "execute_result"
    },
    {
     "data": {
      "image/png": "[encoded data removed]",
      "text/plain": [
       "<Figure size 864x288 with 1 Axes>"
      ]
     },
     "metadata": {
      "needs_background": "light"
     },
     "output_type": "display_data"
    }
   ],
   "source": [
    "fig_dims = (12, 4)\n",
    "fig, ax = plt.subplots(figsize=fig_dims)\n",
    "sns.histplot(data['long_v'])\n",
    "data['long_v'].value_counts().unique"
   ]
  },
  {
   "cell_type": "markdown",
   "id": "c63e1b3c",
   "metadata": {},
   "source": [
    "**Relationship between dbl_v and parameter_name**"
   ]
  },
  {
   "cell_type": "code",
   "execution_count": 36,
   "id": "6fb91f52",
   "metadata": {},
   "outputs": [
    {
     "data": {
      "text/plain": [
       "<AxesSubplot:xlabel='parameter_name', ylabel='dbl_v'>"
      ]
     },
     "execution_count": 36,
     "metadata": {},
     "output_type": "execute_result"
    },
    {
     "data": {
      "image/png": "[encoded data removed]",
      "text/plain": [
       "<Figure size 1152x288 with 1 Axes>"
      ]
     },
     "metadata": {
      "needs_background": "light"
     },
     "output_type": "display_data"
    }
   ],
   "source": [
    "fig_dims = (16, 4)\n",
    "fig, ax = plt.subplots(figsize=fig_dims)\n",
    "sns.pointplot(y='dbl_v',x='parameter_name',data=data)"
   ]
  },
  {
   "cell_type": "markdown",
   "id": "c33393e3",
   "metadata": {},
   "source": [
    "The sensor 's6' has the highest 'dbl_v' value in the figure. 'ProcessId' doesn't have any value."
   ]
  },
  {
   "cell_type": "markdown",
   "id": "4ab2397c",
   "metadata": {},
   "source": [
    "**Relationship between long_v and parameter_name**"
   ]
  },
  {
   "cell_type": "code",
   "execution_count": 37,
   "id": "1a9da2ea",
   "metadata": {},
   "outputs": [
    {
     "data": {
      "text/plain": [
       "<AxesSubplot:xlabel='parameter_name', ylabel='long_v'>"
      ]
     },
     "execution_count": 37,
     "metadata": {},
     "output_type": "execute_result"
    },
    {
     "data": {
      "image/png": "[encoded data removed]",
      "text/plain": [
       "<Figure size 1152x288 with 1 Axes>"
      ]
     },
     "metadata": {
      "needs_background": "light"
     },
     "output_type": "display_data"
    }
   ],
   "source": [
    "fig_dims = (16, 4)\n",
    "fig, ax = plt.subplots(figsize=fig_dims)\n",
    "sns.pointplot(y='long_v',x='parameter_name',data=data)"
   ]
  },
  {
   "cell_type": "markdown",
   "id": "b06d2dff",
   "metadata": {},
   "source": [
    "As you can see in above the figure, all sensor doesn't have a 'long_v' value except 'ProcessId'."
   ]
  },
  {
   "cell_type": "markdown",
   "id": "5f85c282",
   "metadata": {},
   "source": [
    "**Relationship between dbl_v and weekday**"
   ]
  },
  {
   "cell_type": "code",
   "execution_count": 38,
   "id": "074c3643",
   "metadata": {},
   "outputs": [
    {
     "data": {
      "text/plain": [
       "<AxesSubplot:xlabel='weekday', ylabel='dbl_v'>"
      ]
     },
     "execution_count": 38,
     "metadata": {},
     "output_type": "execute_result"
    },
    {
     "data": {
      "image/png": "[encoded data removed]",
      "text/plain": [
       "<Figure size 1152x288 with 1 Axes>"
      ]
     },
     "metadata": {
      "needs_background": "light"
     },
     "output_type": "display_data"
    }
   ],
   "source": [
    "fig_dims = (16, 4)\n",
    "fig, ax = plt.subplots(figsize=fig_dims)\n",
    "sns.pointplot(y='dbl_v',x='weekday',data=data)"
   ]
  },
  {
   "cell_type": "markdown",
   "id": "46f17efe",
   "metadata": {},
   "source": [
    "As seen above figure, the day of Thursday has the highest 'dbl_v' value. On the contrary, Monday has the lowest 'dbl_v' value."
   ]
  },
  {
   "cell_type": "markdown",
   "id": "d8d1a0d2",
   "metadata": {},
   "source": [
    "**Data distribution in weekend**"
   ]
  },
  {
   "cell_type": "code",
   "execution_count": 39,
   "id": "6983fc10",
   "metadata": {},
   "outputs": [
    {
     "data": {
      "image/png": "[encoded data removed]",
      "text/plain": [
       "<Figure size 432x288 with 1 Axes>"
      ]
     },
     "metadata": {},
     "output_type": "display_data"
    }
   ],
   "source": [
    "labels = [\"Weekend\",\"Not Wekend\"]\n",
    "values = data['is_weekend'].value_counts().values\n",
    "fig1, ax1 = plt.subplots()\n",
    "colors = ['lightskyblue', 'pink']\n",
    "ax1.pie(values, labels=labels, autopct='%1.1f%%',shadow=True,startangle=90,colors=colors)\n",
    "plt.show()"
   ]
  },
  {
   "cell_type": "markdown",
   "id": "b8cb156a",
   "metadata": {},
   "source": [
    "The pie graph shows that weekend data is more than weekdays."
   ]
  },
  {
   "cell_type": "markdown",
   "id": "927a5dfe",
   "metadata": {},
   "source": [
    "**Relationship between dbl_v and hour**"
   ]
  },
  {
   "cell_type": "code",
   "execution_count": 40,
   "id": "49170404",
   "metadata": {},
   "outputs": [
    {
     "data": {
      "text/plain": [
       "<AxesSubplot:xlabel='hour', ylabel='dbl_v'>"
      ]
     },
     "execution_count": 40,
     "metadata": {},
     "output_type": "execute_result"
    },
    {
     "data": {
      "image/png": "[encoded data removed]",
      "text/plain": [
       "<Figure size 1152x288 with 1 Axes>"
      ]
     },
     "metadata": {
      "needs_background": "light"
     },
     "output_type": "display_data"
    }
   ],
   "source": [
    "fig_dims = (16, 4)\n",
    "fig, ax = plt.subplots(figsize=fig_dims)\n",
    "sns.pointplot(y='dbl_v',x='hour',data=data)"
   ]
  },
  {
   "cell_type": "markdown",
   "id": "7c53df05",
   "metadata": {},
   "source": [
    "'dbl_v' is approximately 22.0 value at 16:00.Also, the lowest value is at 10:00."
   ]
  },
  {
   "cell_type": "markdown",
   "id": "75fbb55d",
   "metadata": {},
   "source": [
    "**Working Hours**"
   ]
  },
  {
   "cell_type": "code",
   "execution_count": 41,
   "id": "d8f04312",
   "metadata": {},
   "outputs": [
    {
     "data": {
      "image/png": "[encoded data removed]",
      "text/plain": [
       "<Figure size 432x288 with 1 Axes>"
      ]
     },
     "metadata": {},
     "output_type": "display_data"
    }
   ],
   "source": [
    "labels = [\"Working Hours\",\"Not Working Hours\"]\n",
    "values = data['working_hours'].value_counts().values\n",
    "fig1, ax1 = plt.subplots()\n",
    "colors = ['lightskyblue', 'pink']\n",
    "ax1.pie(values, labels=labels, autopct='%1.1f%%',shadow=True,startangle=90,colors=colors)\n",
    "plt.show()"
   ]
  },
  {
   "cell_type": "markdown",
   "id": "9414db11",
   "metadata": {},
   "source": [
    "It can clearly see that working hours has a higher percentage than not working hours. The difference between them is 21%. "
   ]
  },
  {
   "cell_type": "markdown",
   "id": "958c27f4",
   "metadata": {},
   "source": [
    "**Check for outlier for 'dbl_v' value**"
   ]
  },
  {
   "cell_type": "code",
   "execution_count": 43,
   "id": "7eb373cc",
   "metadata": {},
   "outputs": [
    {
     "data": {
      "text/plain": [
       "<AxesSubplot:xlabel='dbl_v'>"
      ]
     },
     "execution_count": 43,
     "metadata": {},
     "output_type": "execute_result"
    },
    {
     "data": {
      "image/png": "[encoded data removed]",
      "text/plain": [
       "<Figure size 1800x1440 with 1 Axes>"
      ]
     },
     "metadata": {
      "needs_background": "light"
     },
     "output_type": "display_data"
    }
   ],
   "source": [
    "plt.figure(figsize=(25,20))\n",
    "plt.subplot(4,4,1)\n",
    "sns.boxplot(data['dbl_v'])"
   ]
  },
  {
   "cell_type": "markdown",
   "id": "1613dd7c",
   "metadata": {},
   "source": [
    "## Preprocessing"
   ]
  },
  {
   "cell_type": "markdown",
   "id": "d9161679",
   "metadata": {},
   "source": [
    "**Dropping extra features**"
   ]
  },
  {
   "cell_type": "markdown",
   "id": "c43d1e83",
   "metadata": {},
   "source": [
    "Dropping long_v, year, month, day, hour, is_weekend, working_hours and weekday attributes from dataset in order to apply regression and classification."
   ]
  },
  {
   "cell_type": "code",
   "execution_count": 44,
   "id": "48f358cb",
   "metadata": {},
   "outputs": [],
   "source": [
    "data=data.drop(['long_v'],axis=1)\n",
    "data=data.drop(['year'],axis=1)\n",
    "data=data.drop(['month'],axis=1)\n",
    "data=data.drop(['day'],axis=1)\n",
    "data=data.drop(['hour'],axis=1)\n",
    "data=data.drop(['is_weekend'],axis=1)\n",
    "data=data.drop(['working_hours'],axis=1)\n",
    "data=data.drop(['weekday'],axis=1)"
   ]
  },
  {
   "cell_type": "markdown",
   "id": "0591448a",
   "metadata": {},
   "source": [
    "**Combining Timestamp**"
   ]
  },
  {
   "cell_type": "markdown",
   "id": "0123ea19",
   "metadata": {},
   "source": [
    "Combining date and time "
   ]
  },
  {
   "cell_type": "code",
   "execution_count": 45,
   "id": "aa6de2f1",
   "metadata": {},
   "outputs": [],
   "source": [
    "data['datetime']=data['date'] +' '+ data['time']"
   ]
  },
  {
   "cell_type": "markdown",
   "id": "023a18e1",
   "metadata": {},
   "source": [
    "Deleting date and time column "
   ]
  },
  {
   "cell_type": "code",
   "execution_count": 46,
   "id": "4732aeae",
   "metadata": {},
   "outputs": [
    {
     "data": {
      "text/html": [
       "<div>\n",
       "<style scoped>\n",
       "    .dataframe tbody tr th:only-of-type {\n",
       "        vertical-align: middle;\n",
       "    }\n",
       "\n",
       "    .dataframe tbody tr th {\n",
       "        vertical-align: top;\n",
       "    }\n",
       "\n",
       "    .dataframe thead th {\n",
       "        text-align: right;\n",
       "    }\n",
       "</style>\n",
       "<table border=\"1\" class=\"dataframe\">\n",
       "  <thead>\n",
       "    <tr style=\"text-align: right;\">\n",
       "      <th></th>\n",
       "      <th>parameter_name</th>\n",
       "      <th>dbl_v</th>\n",
       "      <th>datetime</th>\n",
       "    </tr>\n",
       "  </thead>\n",
       "  <tbody>\n",
       "    <tr>\n",
       "      <th>0</th>\n",
       "      <td>ProcessId</td>\n",
       "      <td>0.00</td>\n",
       "      <td>2021-11-21 06:11:59</td>\n",
       "    </tr>\n",
       "    <tr>\n",
       "      <th>1</th>\n",
       "      <td>s1</td>\n",
       "      <td>22.01</td>\n",
       "      <td>2021-11-21 06:11:59</td>\n",
       "    </tr>\n",
       "    <tr>\n",
       "      <th>2</th>\n",
       "      <td>s2</td>\n",
       "      <td>20.59</td>\n",
       "      <td>2021-11-21 06:11:59</td>\n",
       "    </tr>\n",
       "    <tr>\n",
       "      <th>3</th>\n",
       "      <td>s3</td>\n",
       "      <td>21.03</td>\n",
       "      <td>2021-11-21 06:11:59</td>\n",
       "    </tr>\n",
       "    <tr>\n",
       "      <th>4</th>\n",
       "      <td>s4</td>\n",
       "      <td>25.03</td>\n",
       "      <td>2021-11-21 06:11:59</td>\n",
       "    </tr>\n",
       "    <tr>\n",
       "      <th>...</th>\n",
       "      <td>...</td>\n",
       "      <td>...</td>\n",
       "      <td>...</td>\n",
       "    </tr>\n",
       "    <tr>\n",
       "      <th>154105</th>\n",
       "      <td>s1</td>\n",
       "      <td>25.75</td>\n",
       "      <td>2021-11-18 16:22:36</td>\n",
       "    </tr>\n",
       "    <tr>\n",
       "      <th>154153</th>\n",
       "      <td>s3</td>\n",
       "      <td>21.70</td>\n",
       "      <td>2021-11-19 03:05:34</td>\n",
       "    </tr>\n",
       "    <tr>\n",
       "      <th>154184</th>\n",
       "      <td>s8</td>\n",
       "      <td>20.95</td>\n",
       "      <td>2021-11-17 05:05:30</td>\n",
       "    </tr>\n",
       "    <tr>\n",
       "      <th>154188</th>\n",
       "      <td>s9</td>\n",
       "      <td>19.08</td>\n",
       "      <td>2021-11-18 05:22:00</td>\n",
       "    </tr>\n",
       "    <tr>\n",
       "      <th>154364</th>\n",
       "      <td>s5</td>\n",
       "      <td>23.08</td>\n",
       "      <td>2021-11-20 22:35:01</td>\n",
       "    </tr>\n",
       "  </tbody>\n",
       "</table>\n",
       "<p>151694 rows × 3 columns</p>\n",
       "</div>"
      ],
      "text/plain": [
       "       parameter_name  dbl_v             datetime\n",
       "0           ProcessId   0.00  2021-11-21 06:11:59\n",
       "1                  s1  22.01  2021-11-21 06:11:59\n",
       "2                  s2  20.59  2021-11-21 06:11:59\n",
       "3                  s3  21.03  2021-11-21 06:11:59\n",
       "4                  s4  25.03  2021-11-21 06:11:59\n",
       "...               ...    ...                  ...\n",
       "154105             s1  25.75  2021-11-18 16:22:36\n",
       "154153             s3  21.70  2021-11-19 03:05:34\n",
       "154184             s8  20.95  2021-11-17 05:05:30\n",
       "154188             s9  19.08  2021-11-18 05:22:00\n",
       "154364             s5  23.08  2021-11-20 22:35:01\n",
       "\n",
       "[151694 rows x 3 columns]"
      ]
     },
     "execution_count": 46,
     "metadata": {},
     "output_type": "execute_result"
    }
   ],
   "source": [
    "data=data.drop(columns=['date', 'time'])\n",
    "data"
   ]
  },
  {
   "cell_type": "markdown",
   "id": "b733958c",
   "metadata": {},
   "source": [
    "**Comparing all the feature values for the DateTime**"
   ]
  },
  {
   "cell_type": "markdown",
   "id": "4d5b6e48",
   "metadata": {},
   "source": [
    "Transposing the table to show each sensor value according to DateTime."
   ]
  },
  {
   "cell_type": "code",
   "execution_count": 47,
   "id": "3a4c7f8b",
   "metadata": {},
   "outputs": [],
   "source": [
    "data = data.pivot_table('dbl_v', ['datetime'], 'parameter_name',fill_value=0)"
   ]
  },
  {
   "cell_type": "code",
   "execution_count": 48,
   "id": "25ec0c33",
   "metadata": {},
   "outputs": [
    {
     "data": {
      "text/html": [
       "<div>\n",
       "<style scoped>\n",
       "    .dataframe tbody tr th:only-of-type {\n",
       "        vertical-align: middle;\n",
       "    }\n",
       "\n",
       "    .dataframe tbody tr th {\n",
       "        vertical-align: top;\n",
       "    }\n",
       "\n",
       "    .dataframe thead th {\n",
       "        text-align: right;\n",
       "    }\n",
       "</style>\n",
       "<table border=\"1\" class=\"dataframe\">\n",
       "  <thead>\n",
       "    <tr style=\"text-align: right;\">\n",
       "      <th>parameter_name</th>\n",
       "      <th>ProcessId</th>\n",
       "      <th>s1</th>\n",
       "      <th>s10</th>\n",
       "      <th>s11</th>\n",
       "      <th>s12</th>\n",
       "      <th>s13</th>\n",
       "      <th>s2</th>\n",
       "      <th>s3</th>\n",
       "      <th>s4</th>\n",
       "      <th>s5</th>\n",
       "      <th>s6</th>\n",
       "      <th>s7</th>\n",
       "      <th>s8</th>\n",
       "      <th>s9</th>\n",
       "    </tr>\n",
       "    <tr>\n",
       "      <th>datetime</th>\n",
       "      <th></th>\n",
       "      <th></th>\n",
       "      <th></th>\n",
       "      <th></th>\n",
       "      <th></th>\n",
       "      <th></th>\n",
       "      <th></th>\n",
       "      <th></th>\n",
       "      <th></th>\n",
       "      <th></th>\n",
       "      <th></th>\n",
       "      <th></th>\n",
       "      <th></th>\n",
       "      <th></th>\n",
       "    </tr>\n",
       "  </thead>\n",
       "  <tbody>\n",
       "    <tr>\n",
       "      <th>2021-11-13 01:22:43</th>\n",
       "      <td>0</td>\n",
       "      <td>20.29</td>\n",
       "      <td>19.24</td>\n",
       "      <td>17.85</td>\n",
       "      <td>18.93</td>\n",
       "      <td>18.45</td>\n",
       "      <td>18.69</td>\n",
       "      <td>18.24</td>\n",
       "      <td>23.67</td>\n",
       "      <td>19.31</td>\n",
       "      <td>34.59</td>\n",
       "      <td>19.18</td>\n",
       "      <td>19.72</td>\n",
       "      <td>19.31</td>\n",
       "    </tr>\n",
       "    <tr>\n",
       "      <th>2021-11-13 01:22:53</th>\n",
       "      <td>0</td>\n",
       "      <td>20.29</td>\n",
       "      <td>19.24</td>\n",
       "      <td>17.85</td>\n",
       "      <td>18.93</td>\n",
       "      <td>18.45</td>\n",
       "      <td>18.69</td>\n",
       "      <td>18.24</td>\n",
       "      <td>23.67</td>\n",
       "      <td>19.34</td>\n",
       "      <td>34.59</td>\n",
       "      <td>19.18</td>\n",
       "      <td>19.70</td>\n",
       "      <td>19.31</td>\n",
       "    </tr>\n",
       "    <tr>\n",
       "      <th>2021-11-13 01:23:03</th>\n",
       "      <td>0</td>\n",
       "      <td>20.26</td>\n",
       "      <td>19.24</td>\n",
       "      <td>17.85</td>\n",
       "      <td>18.93</td>\n",
       "      <td>18.45</td>\n",
       "      <td>18.69</td>\n",
       "      <td>18.24</td>\n",
       "      <td>23.67</td>\n",
       "      <td>19.34</td>\n",
       "      <td>34.65</td>\n",
       "      <td>19.16</td>\n",
       "      <td>19.67</td>\n",
       "      <td>19.29</td>\n",
       "    </tr>\n",
       "    <tr>\n",
       "      <th>2021-11-13 01:23:13</th>\n",
       "      <td>0</td>\n",
       "      <td>20.26</td>\n",
       "      <td>19.24</td>\n",
       "      <td>17.83</td>\n",
       "      <td>18.93</td>\n",
       "      <td>18.45</td>\n",
       "      <td>18.66</td>\n",
       "      <td>18.24</td>\n",
       "      <td>23.67</td>\n",
       "      <td>19.39</td>\n",
       "      <td>34.75</td>\n",
       "      <td>19.16</td>\n",
       "      <td>19.67</td>\n",
       "      <td>19.29</td>\n",
       "    </tr>\n",
       "    <tr>\n",
       "      <th>2021-11-13 01:23:23</th>\n",
       "      <td>0</td>\n",
       "      <td>20.24</td>\n",
       "      <td>19.24</td>\n",
       "      <td>17.83</td>\n",
       "      <td>18.93</td>\n",
       "      <td>18.45</td>\n",
       "      <td>18.69</td>\n",
       "      <td>18.24</td>\n",
       "      <td>23.65</td>\n",
       "      <td>19.42</td>\n",
       "      <td>34.88</td>\n",
       "      <td>19.16</td>\n",
       "      <td>19.62</td>\n",
       "      <td>19.29</td>\n",
       "    </tr>\n",
       "    <tr>\n",
       "      <th>2021-11-13 01:23:33</th>\n",
       "      <td>0</td>\n",
       "      <td>20.24</td>\n",
       "      <td>19.24</td>\n",
       "      <td>17.83</td>\n",
       "      <td>18.93</td>\n",
       "      <td>18.48</td>\n",
       "      <td>18.66</td>\n",
       "      <td>18.24</td>\n",
       "      <td>23.65</td>\n",
       "      <td>19.42</td>\n",
       "      <td>35.01</td>\n",
       "      <td>19.16</td>\n",
       "      <td>19.59</td>\n",
       "      <td>19.26</td>\n",
       "    </tr>\n",
       "    <tr>\n",
       "      <th>2021-11-13 01:23:43</th>\n",
       "      <td>0</td>\n",
       "      <td>20.24</td>\n",
       "      <td>19.24</td>\n",
       "      <td>17.80</td>\n",
       "      <td>18.93</td>\n",
       "      <td>18.48</td>\n",
       "      <td>18.66</td>\n",
       "      <td>18.24</td>\n",
       "      <td>23.67</td>\n",
       "      <td>19.44</td>\n",
       "      <td>35.13</td>\n",
       "      <td>19.16</td>\n",
       "      <td>19.62</td>\n",
       "      <td>19.24</td>\n",
       "    </tr>\n",
       "    <tr>\n",
       "      <th>2021-11-13 01:23:53</th>\n",
       "      <td>0</td>\n",
       "      <td>20.21</td>\n",
       "      <td>19.26</td>\n",
       "      <td>17.80</td>\n",
       "      <td>18.95</td>\n",
       "      <td>18.48</td>\n",
       "      <td>18.66</td>\n",
       "      <td>18.24</td>\n",
       "      <td>23.67</td>\n",
       "      <td>19.47</td>\n",
       "      <td>35.31</td>\n",
       "      <td>19.13</td>\n",
       "      <td>19.57</td>\n",
       "      <td>19.24</td>\n",
       "    </tr>\n",
       "    <tr>\n",
       "      <th>2021-11-13 01:24:03</th>\n",
       "      <td>0</td>\n",
       "      <td>20.21</td>\n",
       "      <td>19.24</td>\n",
       "      <td>17.77</td>\n",
       "      <td>18.95</td>\n",
       "      <td>18.50</td>\n",
       "      <td>18.66</td>\n",
       "      <td>18.24</td>\n",
       "      <td>23.67</td>\n",
       "      <td>19.47</td>\n",
       "      <td>35.49</td>\n",
       "      <td>19.13</td>\n",
       "      <td>19.54</td>\n",
       "      <td>19.24</td>\n",
       "    </tr>\n",
       "    <tr>\n",
       "      <th>2021-11-13 01:24:13</th>\n",
       "      <td>0</td>\n",
       "      <td>20.21</td>\n",
       "      <td>19.24</td>\n",
       "      <td>17.75</td>\n",
       "      <td>18.93</td>\n",
       "      <td>18.50</td>\n",
       "      <td>18.66</td>\n",
       "      <td>18.24</td>\n",
       "      <td>23.62</td>\n",
       "      <td>19.47</td>\n",
       "      <td>35.65</td>\n",
       "      <td>19.13</td>\n",
       "      <td>19.54</td>\n",
       "      <td>19.21</td>\n",
       "    </tr>\n",
       "  </tbody>\n",
       "</table>\n",
       "</div>"
      ],
      "text/plain": [
       "parameter_name       ProcessId     s1    s10    s11    s12    s13     s2  \\\n",
       "datetime                                                                   \n",
       "2021-11-13 01:22:43          0  20.29  19.24  17.85  18.93  18.45  18.69   \n",
       "2021-11-13 01:22:53          0  20.29  19.24  17.85  18.93  18.45  18.69   \n",
       "2021-11-13 01:23:03          0  20.26  19.24  17.85  18.93  18.45  18.69   \n",
       "2021-11-13 01:23:13          0  20.26  19.24  17.83  18.93  18.45  18.66   \n",
       "2021-11-13 01:23:23          0  20.24  19.24  17.83  18.93  18.45  18.69   \n",
       "2021-11-13 01:23:33          0  20.24  19.24  17.83  18.93  18.48  18.66   \n",
       "2021-11-13 01:23:43          0  20.24  19.24  17.80  18.93  18.48  18.66   \n",
       "2021-11-13 01:23:53          0  20.21  19.26  17.80  18.95  18.48  18.66   \n",
       "2021-11-13 01:24:03          0  20.21  19.24  17.77  18.95  18.50  18.66   \n",
       "2021-11-13 01:24:13          0  20.21  19.24  17.75  18.93  18.50  18.66   \n",
       "\n",
       "parameter_name          s3     s4     s5     s6     s7     s8     s9  \n",
       "datetime                                                              \n",
       "2021-11-13 01:22:43  18.24  23.67  19.31  34.59  19.18  19.72  19.31  \n",
       "2021-11-13 01:22:53  18.24  23.67  19.34  34.59  19.18  19.70  19.31  \n",
       "2021-11-13 01:23:03  18.24  23.67  19.34  34.65  19.16  19.67  19.29  \n",
       "2021-11-13 01:23:13  18.24  23.67  19.39  34.75  19.16  19.67  19.29  \n",
       "2021-11-13 01:23:23  18.24  23.65  19.42  34.88  19.16  19.62  19.29  \n",
       "2021-11-13 01:23:33  18.24  23.65  19.42  35.01  19.16  19.59  19.26  \n",
       "2021-11-13 01:23:43  18.24  23.67  19.44  35.13  19.16  19.62  19.24  \n",
       "2021-11-13 01:23:53  18.24  23.67  19.47  35.31  19.13  19.57  19.24  \n",
       "2021-11-13 01:24:03  18.24  23.67  19.47  35.49  19.13  19.54  19.24  \n",
       "2021-11-13 01:24:13  18.24  23.62  19.47  35.65  19.13  19.54  19.21  "
      ]
     },
     "execution_count": 48,
     "metadata": {},
     "output_type": "execute_result"
    }
   ],
   "source": [
    "data.head(10)"
   ]
  },
  {
   "cell_type": "markdown",
   "id": "96c8330d",
   "metadata": {},
   "source": [
    "**Subtracting sensor value of S5 and sensor value of S10**"
   ]
  },
  {
   "cell_type": "markdown",
   "id": "12392310",
   "metadata": {},
   "source": [
    "Differences between sensor s5 and s10 and adding new column which name is 's5-s10'"
   ]
  },
  {
   "cell_type": "code",
   "execution_count": 49,
   "id": "fe2e2b2a",
   "metadata": {},
   "outputs": [
    {
     "data": {
      "text/html": [
       "<div>\n",
       "<style scoped>\n",
       "    .dataframe tbody tr th:only-of-type {\n",
       "        vertical-align: middle;\n",
       "    }\n",
       "\n",
       "    .dataframe tbody tr th {\n",
       "        vertical-align: top;\n",
       "    }\n",
       "\n",
       "    .dataframe thead th {\n",
       "        text-align: right;\n",
       "    }\n",
       "</style>\n",
       "<table border=\"1\" class=\"dataframe\">\n",
       "  <thead>\n",
       "    <tr style=\"text-align: right;\">\n",
       "      <th>parameter_name</th>\n",
       "      <th>ProcessId</th>\n",
       "      <th>s1</th>\n",
       "      <th>s10</th>\n",
       "      <th>s11</th>\n",
       "      <th>s12</th>\n",
       "      <th>s13</th>\n",
       "      <th>s2</th>\n",
       "      <th>s3</th>\n",
       "      <th>s4</th>\n",
       "      <th>s5</th>\n",
       "      <th>s6</th>\n",
       "      <th>s7</th>\n",
       "      <th>s8</th>\n",
       "      <th>s9</th>\n",
       "      <th>s5-s10</th>\n",
       "    </tr>\n",
       "    <tr>\n",
       "      <th>datetime</th>\n",
       "      <th></th>\n",
       "      <th></th>\n",
       "      <th></th>\n",
       "      <th></th>\n",
       "      <th></th>\n",
       "      <th></th>\n",
       "      <th></th>\n",
       "      <th></th>\n",
       "      <th></th>\n",
       "      <th></th>\n",
       "      <th></th>\n",
       "      <th></th>\n",
       "      <th></th>\n",
       "      <th></th>\n",
       "      <th></th>\n",
       "    </tr>\n",
       "  </thead>\n",
       "  <tbody>\n",
       "    <tr>\n",
       "      <th>2021-11-13 01:22:43</th>\n",
       "      <td>0</td>\n",
       "      <td>20.29</td>\n",
       "      <td>19.24</td>\n",
       "      <td>17.85</td>\n",
       "      <td>18.93</td>\n",
       "      <td>18.45</td>\n",
       "      <td>18.69</td>\n",
       "      <td>18.24</td>\n",
       "      <td>23.67</td>\n",
       "      <td>19.31</td>\n",
       "      <td>34.59</td>\n",
       "      <td>19.18</td>\n",
       "      <td>19.72</td>\n",
       "      <td>19.31</td>\n",
       "      <td>0.07</td>\n",
       "    </tr>\n",
       "    <tr>\n",
       "      <th>2021-11-13 01:22:53</th>\n",
       "      <td>0</td>\n",
       "      <td>20.29</td>\n",
       "      <td>19.24</td>\n",
       "      <td>17.85</td>\n",
       "      <td>18.93</td>\n",
       "      <td>18.45</td>\n",
       "      <td>18.69</td>\n",
       "      <td>18.24</td>\n",
       "      <td>23.67</td>\n",
       "      <td>19.34</td>\n",
       "      <td>34.59</td>\n",
       "      <td>19.18</td>\n",
       "      <td>19.70</td>\n",
       "      <td>19.31</td>\n",
       "      <td>0.10</td>\n",
       "    </tr>\n",
       "    <tr>\n",
       "      <th>2021-11-13 01:23:03</th>\n",
       "      <td>0</td>\n",
       "      <td>20.26</td>\n",
       "      <td>19.24</td>\n",
       "      <td>17.85</td>\n",
       "      <td>18.93</td>\n",
       "      <td>18.45</td>\n",
       "      <td>18.69</td>\n",
       "      <td>18.24</td>\n",
       "      <td>23.67</td>\n",
       "      <td>19.34</td>\n",
       "      <td>34.65</td>\n",
       "      <td>19.16</td>\n",
       "      <td>19.67</td>\n",
       "      <td>19.29</td>\n",
       "      <td>0.10</td>\n",
       "    </tr>\n",
       "    <tr>\n",
       "      <th>2021-11-13 01:23:13</th>\n",
       "      <td>0</td>\n",
       "      <td>20.26</td>\n",
       "      <td>19.24</td>\n",
       "      <td>17.83</td>\n",
       "      <td>18.93</td>\n",
       "      <td>18.45</td>\n",
       "      <td>18.66</td>\n",
       "      <td>18.24</td>\n",
       "      <td>23.67</td>\n",
       "      <td>19.39</td>\n",
       "      <td>34.75</td>\n",
       "      <td>19.16</td>\n",
       "      <td>19.67</td>\n",
       "      <td>19.29</td>\n",
       "      <td>0.15</td>\n",
       "    </tr>\n",
       "    <tr>\n",
       "      <th>2021-11-13 01:23:23</th>\n",
       "      <td>0</td>\n",
       "      <td>20.24</td>\n",
       "      <td>19.24</td>\n",
       "      <td>17.83</td>\n",
       "      <td>18.93</td>\n",
       "      <td>18.45</td>\n",
       "      <td>18.69</td>\n",
       "      <td>18.24</td>\n",
       "      <td>23.65</td>\n",
       "      <td>19.42</td>\n",
       "      <td>34.88</td>\n",
       "      <td>19.16</td>\n",
       "      <td>19.62</td>\n",
       "      <td>19.29</td>\n",
       "      <td>0.18</td>\n",
       "    </tr>\n",
       "    <tr>\n",
       "      <th>2021-11-13 01:23:33</th>\n",
       "      <td>0</td>\n",
       "      <td>20.24</td>\n",
       "      <td>19.24</td>\n",
       "      <td>17.83</td>\n",
       "      <td>18.93</td>\n",
       "      <td>18.48</td>\n",
       "      <td>18.66</td>\n",
       "      <td>18.24</td>\n",
       "      <td>23.65</td>\n",
       "      <td>19.42</td>\n",
       "      <td>35.01</td>\n",
       "      <td>19.16</td>\n",
       "      <td>19.59</td>\n",
       "      <td>19.26</td>\n",
       "      <td>0.18</td>\n",
       "    </tr>\n",
       "    <tr>\n",
       "      <th>2021-11-13 01:23:43</th>\n",
       "      <td>0</td>\n",
       "      <td>20.24</td>\n",
       "      <td>19.24</td>\n",
       "      <td>17.80</td>\n",
       "      <td>18.93</td>\n",
       "      <td>18.48</td>\n",
       "      <td>18.66</td>\n",
       "      <td>18.24</td>\n",
       "      <td>23.67</td>\n",
       "      <td>19.44</td>\n",
       "      <td>35.13</td>\n",
       "      <td>19.16</td>\n",
       "      <td>19.62</td>\n",
       "      <td>19.24</td>\n",
       "      <td>0.20</td>\n",
       "    </tr>\n",
       "    <tr>\n",
       "      <th>2021-11-13 01:23:53</th>\n",
       "      <td>0</td>\n",
       "      <td>20.21</td>\n",
       "      <td>19.26</td>\n",
       "      <td>17.80</td>\n",
       "      <td>18.95</td>\n",
       "      <td>18.48</td>\n",
       "      <td>18.66</td>\n",
       "      <td>18.24</td>\n",
       "      <td>23.67</td>\n",
       "      <td>19.47</td>\n",
       "      <td>35.31</td>\n",
       "      <td>19.13</td>\n",
       "      <td>19.57</td>\n",
       "      <td>19.24</td>\n",
       "      <td>0.21</td>\n",
       "    </tr>\n",
       "    <tr>\n",
       "      <th>2021-11-13 01:24:03</th>\n",
       "      <td>0</td>\n",
       "      <td>20.21</td>\n",
       "      <td>19.24</td>\n",
       "      <td>17.77</td>\n",
       "      <td>18.95</td>\n",
       "      <td>18.50</td>\n",
       "      <td>18.66</td>\n",
       "      <td>18.24</td>\n",
       "      <td>23.67</td>\n",
       "      <td>19.47</td>\n",
       "      <td>35.49</td>\n",
       "      <td>19.13</td>\n",
       "      <td>19.54</td>\n",
       "      <td>19.24</td>\n",
       "      <td>0.23</td>\n",
       "    </tr>\n",
       "    <tr>\n",
       "      <th>2021-11-13 01:24:13</th>\n",
       "      <td>0</td>\n",
       "      <td>20.21</td>\n",
       "      <td>19.24</td>\n",
       "      <td>17.75</td>\n",
       "      <td>18.93</td>\n",
       "      <td>18.50</td>\n",
       "      <td>18.66</td>\n",
       "      <td>18.24</td>\n",
       "      <td>23.62</td>\n",
       "      <td>19.47</td>\n",
       "      <td>35.65</td>\n",
       "      <td>19.13</td>\n",
       "      <td>19.54</td>\n",
       "      <td>19.21</td>\n",
       "      <td>0.23</td>\n",
       "    </tr>\n",
       "  </tbody>\n",
       "</table>\n",
       "</div>"
      ],
      "text/plain": [
       "parameter_name       ProcessId     s1    s10    s11    s12    s13     s2  \\\n",
       "datetime                                                                   \n",
       "2021-11-13 01:22:43          0  20.29  19.24  17.85  18.93  18.45  18.69   \n",
       "2021-11-13 01:22:53          0  20.29  19.24  17.85  18.93  18.45  18.69   \n",
       "2021-11-13 01:23:03          0  20.26  19.24  17.85  18.93  18.45  18.69   \n",
       "2021-11-13 01:23:13          0  20.26  19.24  17.83  18.93  18.45  18.66   \n",
       "2021-11-13 01:23:23          0  20.24  19.24  17.83  18.93  18.45  18.69   \n",
       "2021-11-13 01:23:33          0  20.24  19.24  17.83  18.93  18.48  18.66   \n",
       "2021-11-13 01:23:43          0  20.24  19.24  17.80  18.93  18.48  18.66   \n",
       "2021-11-13 01:23:53          0  20.21  19.26  17.80  18.95  18.48  18.66   \n",
       "2021-11-13 01:24:03          0  20.21  19.24  17.77  18.95  18.50  18.66   \n",
       "2021-11-13 01:24:13          0  20.21  19.24  17.75  18.93  18.50  18.66   \n",
       "\n",
       "parameter_name          s3     s4     s5     s6     s7     s8     s9  s5-s10  \n",
       "datetime                                                                      \n",
       "2021-11-13 01:22:43  18.24  23.67  19.31  34.59  19.18  19.72  19.31    0.07  \n",
       "2021-11-13 01:22:53  18.24  23.67  19.34  34.59  19.18  19.70  19.31    0.10  \n",
       "2021-11-13 01:23:03  18.24  23.67  19.34  34.65  19.16  19.67  19.29    0.10  \n",
       "2021-11-13 01:23:13  18.24  23.67  19.39  34.75  19.16  19.67  19.29    0.15  \n",
       "2021-11-13 01:23:23  18.24  23.65  19.42  34.88  19.16  19.62  19.29    0.18  \n",
       "2021-11-13 01:23:33  18.24  23.65  19.42  35.01  19.16  19.59  19.26    0.18  \n",
       "2021-11-13 01:23:43  18.24  23.67  19.44  35.13  19.16  19.62  19.24    0.20  \n",
       "2021-11-13 01:23:53  18.24  23.67  19.47  35.31  19.13  19.57  19.24    0.21  \n",
       "2021-11-13 01:24:03  18.24  23.67  19.47  35.49  19.13  19.54  19.24    0.23  \n",
       "2021-11-13 01:24:13  18.24  23.62  19.47  35.65  19.13  19.54  19.21    0.23  "
      ]
     },
     "execution_count": 49,
     "metadata": {},
     "output_type": "execute_result"
    }
   ],
   "source": [
    "data['s5-s10'] = data['s5'] - data['s10']\n",
    "data.head(10)"
   ]
  },
  {
   "cell_type": "markdown",
   "id": "7db8dcf4",
   "metadata": {},
   "source": [
    "**Normalization**"
   ]
  },
  {
   "cell_type": "markdown",
   "id": "1f5bcdba",
   "metadata": {},
   "source": [
    "Using z-normalization in order to scaling the values"
   ]
  },
  {
   "cell_type": "code",
   "execution_count": 50,
   "id": "35bf2716",
   "metadata": {},
   "outputs": [],
   "source": [
    "def normalize(x):\n",
    "\n",
    "  z=(x-x.mean())/x.std()\n",
    "\n",
    "  return z"
   ]
  },
  {
   "cell_type": "markdown",
   "id": "25b91704",
   "metadata": {},
   "source": [
    "Normalize data "
   ]
  },
  {
   "cell_type": "code",
   "execution_count": 51,
   "id": "8fac35e1",
   "metadata": {},
   "outputs": [],
   "source": [
    "ndata=normalize(data)"
   ]
  },
  {
   "cell_type": "markdown",
   "id": "9359e80a",
   "metadata": {},
   "source": [
    "After normalization, variation is 1"
   ]
  },
  {
   "cell_type": "code",
   "execution_count": 53,
   "id": "7b203cbe",
   "metadata": {},
   "outputs": [
    {
     "name": "stdout",
     "output_type": "stream",
     "text": [
      "Variation of data is  parameter_name\n",
      "ProcessId    NaN\n",
      "s1           1.0\n",
      "s10          1.0\n",
      "s11          1.0\n",
      "s12          1.0\n",
      "s13          1.0\n",
      "s2           1.0\n",
      "s3           1.0\n",
      "s4           1.0\n",
      "s5           1.0\n",
      "s6           1.0\n",
      "s7           1.0\n",
      "s8           1.0\n",
      "s9           1.0\n",
      "s5-s10       1.0\n",
      "dtype: float64\n"
     ]
    }
   ],
   "source": [
    "print('Variation of data is ', ndata.var())\n"
   ]
  },
  {
   "cell_type": "markdown",
   "id": "99c5364d",
   "metadata": {},
   "source": [
    "Dividing 's5-s10' attribute for predicting value"
   ]
  },
  {
   "cell_type": "code",
   "execution_count": 54,
   "id": "168ab9d1",
   "metadata": {},
   "outputs": [],
   "source": [
    "y=ndata['s5-s10']"
   ]
  },
  {
   "cell_type": "markdown",
   "id": "fc4e2e31",
   "metadata": {},
   "source": [
    "Deleting 's5-s10' column from data"
   ]
  },
  {
   "cell_type": "code",
   "execution_count": 55,
   "id": "010492b9",
   "metadata": {},
   "outputs": [
    {
     "data": {
      "text/plain": [
       "(12857, 14)"
      ]
     },
     "execution_count": 55,
     "metadata": {},
     "output_type": "execute_result"
    }
   ],
   "source": [
    "X = ndata.drop('s5-s10',axis=1)\n",
    "X.shape"
   ]
  },
  {
   "cell_type": "markdown",
   "id": "154cf0cf",
   "metadata": {},
   "source": [
    "Deleting 'Process Id' column that doesn't have any information"
   ]
  },
  {
   "cell_type": "code",
   "execution_count": 56,
   "id": "4c510768",
   "metadata": {},
   "outputs": [],
   "source": [
    "X=X.drop('ProcessId',axis=1)\n"
   ]
  },
  {
   "cell_type": "markdown",
   "id": "dabd9988",
   "metadata": {},
   "source": [
    "**Correlation Matrix**"
   ]
  },
  {
   "cell_type": "markdown",
   "id": "dfcd3a9d",
   "metadata": {},
   "source": [
    "Correlation declares how the features are related to each other or the target variable. Correlation can be positive or negative. Heatmap makes it easy to identify which features are most related to the target variable."
   ]
  },
  {
   "cell_type": "code",
   "execution_count": 57,
   "id": "b3929b29",
   "metadata": {},
   "outputs": [
    {
     "data": {
      "image/png": "[encoded data removed]",
      "text/plain": [
       "<Figure size 864x864 with 2 Axes>"
      ]
     },
     "metadata": {
      "needs_background": "light"
     },
     "output_type": "display_data"
    }
   ],
   "source": [
    "cormat=pd.concat([X, y], axis=1)\n",
    "corr=cormat.corr().round(2)\n",
    "fig=plt.figure(figsize=(12,12))\n",
    "fig=sns.heatmap(corr,annot=True,cmap=\"RdYlGn\")"
   ]
  },
  {
   "cell_type": "markdown",
   "id": "b7b370f7",
   "metadata": {},
   "source": [
    "## Cross Validation"
   ]
  },
  {
   "cell_type": "markdown",
   "id": "a514696f",
   "metadata": {},
   "source": [
    "We split the data into the proportion of 80% train and 20% test. We used the train_test_split of the sci-kit learn method for this task."
   ]
  },
  {
   "cell_type": "code",
   "execution_count": 58,
   "id": "b45586ac",
   "metadata": {},
   "outputs": [],
   "source": [
    "#split train and test data x_train=train data,x_test=test data, y_train=train labels, y_test=test_labels \n",
    "#%20 test %80 train\n",
    "X_train, X_test, y_train, y_test = train_test_split(X, y, test_size=0.2,random_state=100)"
   ]
  },
  {
   "cell_type": "markdown",
   "id": "8a56e9e1",
   "metadata": {},
   "source": [
    "## Regression"
   ]
  },
  {
   "cell_type": "code",
   "execution_count": 59,
   "id": "39fb960b",
   "metadata": {},
   "outputs": [
    {
     "data": {
      "text/plain": [
       "LinearRegression()"
      ]
     },
     "execution_count": 59,
     "metadata": {},
     "output_type": "execute_result"
    }
   ],
   "source": [
    "#Creating Linear Regression Model\n",
    "lr = LinearRegression()\n",
    "#Fit model \n",
    "lr.fit(X_train, y_train)"
   ]
  },
  {
   "cell_type": "code",
   "execution_count": 60,
   "id": "75df8259",
   "metadata": {},
   "outputs": [
    {
     "data": {
      "text/plain": [
       "array([ 6.73536733e-15, -1.49115330e+00,  1.99840144e-15,  3.33066907e-15,\n",
       "       -4.10782519e-15,  1.77635684e-15, -7.77156117e-16, -3.88578059e-16,\n",
       "        1.60353797e+00, -4.44089210e-16,  6.10622664e-16, -6.66133815e-16,\n",
       "       -1.60982339e-15])"
      ]
     },
     "execution_count": 60,
     "metadata": {},
     "output_type": "execute_result"
    }
   ],
   "source": [
    "#Estimating coefficients\n",
    "lr.coef_"
   ]
  },
  {
   "cell_type": "code",
   "execution_count": 72,
   "id": "3ae3f835",
   "metadata": {},
   "outputs": [],
   "source": [
    "y_pred=lr.predict(X_test)"
   ]
  },
  {
   "cell_type": "code",
   "execution_count": 81,
   "id": "90b20c02",
   "metadata": {},
   "outputs": [
    {
     "name": "stdout",
     "output_type": "stream",
     "text": [
      "r2 score is 1.0\n",
      "Mean Absolute Error: 7.723248057072671e-15\n",
      "Mean Squared Error: 1.1348333686699886e-28\n",
      "Root Mean Squared Error: 1.0652855808045036e-14\n"
     ]
    }
   ],
   "source": [
    "from sklearn.metrics import mean_squared_error, mean_absolute_error,mean_squared_error\n",
    "import sklearn.metrics as metrics\n",
    "score=r2_score(y_test,y_pred)\n",
    "print('r2 score is' ,score)\n",
    "print('Mean Absolute Error:', metrics.mean_absolute_error(y_test, y_pred))\n",
    "print('Mean Squared Error:', metrics.mean_squared_error(y_test, y_pred))\n",
    "print('Root Mean Squared Error:', np.sqrt(metrics.mean_squared_error(y_test, y_pred)))"
   ]
  },
  {
   "cell_type": "code",
   "execution_count": 82,
   "id": "a5fa48ef",
   "metadata": {},
   "outputs": [
    {
     "data": {
      "text/plain": [
       "<AxesSubplot:xlabel='s5-s10', ylabel='Density'>"
      ]
     },
     "execution_count": 82,
     "metadata": {},
     "output_type": "execute_result"
    },
    {
     "data": {
      "image/png": "[encoded data removed]",
      "text/plain": [
       "<Figure size 432x288 with 1 Axes>"
      ]
     },
     "metadata": {
      "needs_background": "light"
     },
     "output_type": "display_data"
    }
   ],
   "source": [
    "ax1=sns.distplot(y,hist=False,color='r',label='actual data')\n",
    "sns.distplot(y_pred,hist=False,color='b',label='predicted data')"
   ]
  },
  {
   "cell_type": "code",
   "execution_count": 83,
   "id": "98f5f74e",
   "metadata": {},
   "outputs": [
    {
     "data": {
      "text/html": [
       "<div>\n",
       "<style scoped>\n",
       "    .dataframe tbody tr th:only-of-type {\n",
       "        vertical-align: middle;\n",
       "    }\n",
       "\n",
       "    .dataframe tbody tr th {\n",
       "        vertical-align: top;\n",
       "    }\n",
       "\n",
       "    .dataframe thead th {\n",
       "        text-align: right;\n",
       "    }\n",
       "</style>\n",
       "<table border=\"1\" class=\"dataframe\">\n",
       "  <thead>\n",
       "    <tr style=\"text-align: right;\">\n",
       "      <th></th>\n",
       "      <th>Actual</th>\n",
       "      <th>Predicted</th>\n",
       "    </tr>\n",
       "    <tr>\n",
       "      <th>datetime</th>\n",
       "      <th></th>\n",
       "      <th></th>\n",
       "    </tr>\n",
       "  </thead>\n",
       "  <tbody>\n",
       "    <tr>\n",
       "      <th>2021-11-13 03:55:08</th>\n",
       "      <td>-0.236321</td>\n",
       "      <td>-0.236321</td>\n",
       "    </tr>\n",
       "    <tr>\n",
       "      <th>2021-11-19 01:45:33</th>\n",
       "      <td>0.037386</td>\n",
       "      <td>0.037386</td>\n",
       "    </tr>\n",
       "    <tr>\n",
       "      <th>2021-11-13 04:54:23</th>\n",
       "      <td>-0.089550</td>\n",
       "      <td>-0.089550</td>\n",
       "    </tr>\n",
       "    <tr>\n",
       "      <th>2021-11-19 05:51:13</th>\n",
       "      <td>0.092921</td>\n",
       "      <td>0.092921</td>\n",
       "    </tr>\n",
       "    <tr>\n",
       "      <th>2021-11-19 2021-11-19 03:57:53</th>\n",
       "      <td>-0.226404</td>\n",
       "      <td>-0.226404</td>\n",
       "    </tr>\n",
       "    <tr>\n",
       "      <th>...</th>\n",
       "      <td>...</td>\n",
       "      <td>...</td>\n",
       "    </tr>\n",
       "    <tr>\n",
       "      <th>2021-11-16 09:19:11</th>\n",
       "      <td>-0.037982</td>\n",
       "      <td>-0.037982</td>\n",
       "    </tr>\n",
       "    <tr>\n",
       "      <th>2021-11-17 2021-11-17 00:24:34</th>\n",
       "      <td>-0.226404</td>\n",
       "      <td>-0.226404</td>\n",
       "    </tr>\n",
       "    <tr>\n",
       "      <th>2021-11-16 02:16:03</th>\n",
       "      <td>-0.053849</td>\n",
       "      <td>-0.053849</td>\n",
       "    </tr>\n",
       "    <tr>\n",
       "      <th>2021-11-19 22:39:44</th>\n",
       "      <td>-0.065750</td>\n",
       "      <td>-0.065750</td>\n",
       "    </tr>\n",
       "    <tr>\n",
       "      <th>2021-11-19 20:30:23</th>\n",
       "      <td>-0.119301</td>\n",
       "      <td>-0.119301</td>\n",
       "    </tr>\n",
       "  </tbody>\n",
       "</table>\n",
       "<p>2572 rows × 2 columns</p>\n",
       "</div>"
      ],
      "text/plain": [
       "                                  Actual  Predicted\n",
       "datetime                                           \n",
       "2021-11-13 03:55:08            -0.236321  -0.236321\n",
       "2021-11-19 01:45:33             0.037386   0.037386\n",
       "2021-11-13 04:54:23            -0.089550  -0.089550\n",
       "2021-11-19 05:51:13             0.092921   0.092921\n",
       "2021-11-19 2021-11-19 03:57:53 -0.226404  -0.226404\n",
       "...                                  ...        ...\n",
       "2021-11-16 09:19:11            -0.037982  -0.037982\n",
       "2021-11-17 2021-11-17 00:24:34 -0.226404  -0.226404\n",
       "2021-11-16 02:16:03            -0.053849  -0.053849\n",
       "2021-11-19 22:39:44            -0.065750  -0.065750\n",
       "2021-11-19 20:30:23            -0.119301  -0.119301\n",
       "\n",
       "[2572 rows x 2 columns]"
      ]
     },
     "execution_count": 83,
     "metadata": {},
     "output_type": "execute_result"
    }
   ],
   "source": [
    "df = pd.DataFrame({'Actual': y_test, 'Predicted': y_pred})\n",
    "df"
   ]
  },
  {
   "cell_type": "markdown",
   "id": "89c4adc5",
   "metadata": {},
   "source": [
    "## Classification"
   ]
  },
  {
   "cell_type": "markdown",
   "id": "9acef464",
   "metadata": {},
   "source": [
    "**Assigning Label**"
   ]
  },
  {
   "cell_type": "markdown",
   "id": "4fdaeabf",
   "metadata": {},
   "source": [
    "Data labels are determined for classification"
   ]
  },
  {
   "cell_type": "code",
   "execution_count": 84,
   "id": "af7f4e53",
   "metadata": {},
   "outputs": [],
   "source": [
    "data['is_s5_minus_s10_positive']='NaN'\n",
    "data['is_s5_minus_s10_positive'][data['s5-s10']>=0]='Positive'\n",
    "data['is_s5_minus_s10_positive'][data['s5-s10']<0]='Negative'"
   ]
  },
  {
   "cell_type": "code",
   "execution_count": 85,
   "id": "2e154446",
   "metadata": {},
   "outputs": [
    {
     "data": {
      "text/html": [
       "<div>\n",
       "<style scoped>\n",
       "    .dataframe tbody tr th:only-of-type {\n",
       "        vertical-align: middle;\n",
       "    }\n",
       "\n",
       "    .dataframe tbody tr th {\n",
       "        vertical-align: top;\n",
       "    }\n",
       "\n",
       "    .dataframe thead th {\n",
       "        text-align: right;\n",
       "    }\n",
       "</style>\n",
       "<table border=\"1\" class=\"dataframe\">\n",
       "  <thead>\n",
       "    <tr style=\"text-align: right;\">\n",
       "      <th>parameter_name</th>\n",
       "      <th>ProcessId</th>\n",
       "      <th>s1</th>\n",
       "      <th>s10</th>\n",
       "      <th>s11</th>\n",
       "      <th>s12</th>\n",
       "      <th>s13</th>\n",
       "      <th>s2</th>\n",
       "      <th>s3</th>\n",
       "      <th>s4</th>\n",
       "      <th>s5</th>\n",
       "      <th>s6</th>\n",
       "      <th>s7</th>\n",
       "      <th>s8</th>\n",
       "      <th>s9</th>\n",
       "      <th>s5-s10</th>\n",
       "      <th>is_s5_minus_s10_positive</th>\n",
       "    </tr>\n",
       "    <tr>\n",
       "      <th>datetime</th>\n",
       "      <th></th>\n",
       "      <th></th>\n",
       "      <th></th>\n",
       "      <th></th>\n",
       "      <th></th>\n",
       "      <th></th>\n",
       "      <th></th>\n",
       "      <th></th>\n",
       "      <th></th>\n",
       "      <th></th>\n",
       "      <th></th>\n",
       "      <th></th>\n",
       "      <th></th>\n",
       "      <th></th>\n",
       "      <th></th>\n",
       "      <th></th>\n",
       "    </tr>\n",
       "  </thead>\n",
       "  <tbody>\n",
       "    <tr>\n",
       "      <th>2021-11-13 01:22:43</th>\n",
       "      <td>0</td>\n",
       "      <td>20.29</td>\n",
       "      <td>19.24</td>\n",
       "      <td>17.85</td>\n",
       "      <td>18.93</td>\n",
       "      <td>18.45</td>\n",
       "      <td>18.69</td>\n",
       "      <td>18.24</td>\n",
       "      <td>23.67</td>\n",
       "      <td>19.31</td>\n",
       "      <td>34.59</td>\n",
       "      <td>19.18</td>\n",
       "      <td>19.72</td>\n",
       "      <td>19.31</td>\n",
       "      <td>0.07</td>\n",
       "      <td>Positive</td>\n",
       "    </tr>\n",
       "    <tr>\n",
       "      <th>2021-11-13 01:22:53</th>\n",
       "      <td>0</td>\n",
       "      <td>20.29</td>\n",
       "      <td>19.24</td>\n",
       "      <td>17.85</td>\n",
       "      <td>18.93</td>\n",
       "      <td>18.45</td>\n",
       "      <td>18.69</td>\n",
       "      <td>18.24</td>\n",
       "      <td>23.67</td>\n",
       "      <td>19.34</td>\n",
       "      <td>34.59</td>\n",
       "      <td>19.18</td>\n",
       "      <td>19.70</td>\n",
       "      <td>19.31</td>\n",
       "      <td>0.10</td>\n",
       "      <td>Positive</td>\n",
       "    </tr>\n",
       "    <tr>\n",
       "      <th>2021-11-13 01:23:03</th>\n",
       "      <td>0</td>\n",
       "      <td>20.26</td>\n",
       "      <td>19.24</td>\n",
       "      <td>17.85</td>\n",
       "      <td>18.93</td>\n",
       "      <td>18.45</td>\n",
       "      <td>18.69</td>\n",
       "      <td>18.24</td>\n",
       "      <td>23.67</td>\n",
       "      <td>19.34</td>\n",
       "      <td>34.65</td>\n",
       "      <td>19.16</td>\n",
       "      <td>19.67</td>\n",
       "      <td>19.29</td>\n",
       "      <td>0.10</td>\n",
       "      <td>Positive</td>\n",
       "    </tr>\n",
       "    <tr>\n",
       "      <th>2021-11-13 01:23:13</th>\n",
       "      <td>0</td>\n",
       "      <td>20.26</td>\n",
       "      <td>19.24</td>\n",
       "      <td>17.83</td>\n",
       "      <td>18.93</td>\n",
       "      <td>18.45</td>\n",
       "      <td>18.66</td>\n",
       "      <td>18.24</td>\n",
       "      <td>23.67</td>\n",
       "      <td>19.39</td>\n",
       "      <td>34.75</td>\n",
       "      <td>19.16</td>\n",
       "      <td>19.67</td>\n",
       "      <td>19.29</td>\n",
       "      <td>0.15</td>\n",
       "      <td>Positive</td>\n",
       "    </tr>\n",
       "    <tr>\n",
       "      <th>2021-11-13 01:23:23</th>\n",
       "      <td>0</td>\n",
       "      <td>20.24</td>\n",
       "      <td>19.24</td>\n",
       "      <td>17.83</td>\n",
       "      <td>18.93</td>\n",
       "      <td>18.45</td>\n",
       "      <td>18.69</td>\n",
       "      <td>18.24</td>\n",
       "      <td>23.65</td>\n",
       "      <td>19.42</td>\n",
       "      <td>34.88</td>\n",
       "      <td>19.16</td>\n",
       "      <td>19.62</td>\n",
       "      <td>19.29</td>\n",
       "      <td>0.18</td>\n",
       "      <td>Positive</td>\n",
       "    </tr>\n",
       "    <tr>\n",
       "      <th>2021-11-13 01:23:33</th>\n",
       "      <td>0</td>\n",
       "      <td>20.24</td>\n",
       "      <td>19.24</td>\n",
       "      <td>17.83</td>\n",
       "      <td>18.93</td>\n",
       "      <td>18.48</td>\n",
       "      <td>18.66</td>\n",
       "      <td>18.24</td>\n",
       "      <td>23.65</td>\n",
       "      <td>19.42</td>\n",
       "      <td>35.01</td>\n",
       "      <td>19.16</td>\n",
       "      <td>19.59</td>\n",
       "      <td>19.26</td>\n",
       "      <td>0.18</td>\n",
       "      <td>Positive</td>\n",
       "    </tr>\n",
       "    <tr>\n",
       "      <th>2021-11-13 01:23:43</th>\n",
       "      <td>0</td>\n",
       "      <td>20.24</td>\n",
       "      <td>19.24</td>\n",
       "      <td>17.80</td>\n",
       "      <td>18.93</td>\n",
       "      <td>18.48</td>\n",
       "      <td>18.66</td>\n",
       "      <td>18.24</td>\n",
       "      <td>23.67</td>\n",
       "      <td>19.44</td>\n",
       "      <td>35.13</td>\n",
       "      <td>19.16</td>\n",
       "      <td>19.62</td>\n",
       "      <td>19.24</td>\n",
       "      <td>0.20</td>\n",
       "      <td>Positive</td>\n",
       "    </tr>\n",
       "    <tr>\n",
       "      <th>2021-11-13 01:23:53</th>\n",
       "      <td>0</td>\n",
       "      <td>20.21</td>\n",
       "      <td>19.26</td>\n",
       "      <td>17.80</td>\n",
       "      <td>18.95</td>\n",
       "      <td>18.48</td>\n",
       "      <td>18.66</td>\n",
       "      <td>18.24</td>\n",
       "      <td>23.67</td>\n",
       "      <td>19.47</td>\n",
       "      <td>35.31</td>\n",
       "      <td>19.13</td>\n",
       "      <td>19.57</td>\n",
       "      <td>19.24</td>\n",
       "      <td>0.21</td>\n",
       "      <td>Positive</td>\n",
       "    </tr>\n",
       "    <tr>\n",
       "      <th>2021-11-13 01:24:03</th>\n",
       "      <td>0</td>\n",
       "      <td>20.21</td>\n",
       "      <td>19.24</td>\n",
       "      <td>17.77</td>\n",
       "      <td>18.95</td>\n",
       "      <td>18.50</td>\n",
       "      <td>18.66</td>\n",
       "      <td>18.24</td>\n",
       "      <td>23.67</td>\n",
       "      <td>19.47</td>\n",
       "      <td>35.49</td>\n",
       "      <td>19.13</td>\n",
       "      <td>19.54</td>\n",
       "      <td>19.24</td>\n",
       "      <td>0.23</td>\n",
       "      <td>Positive</td>\n",
       "    </tr>\n",
       "    <tr>\n",
       "      <th>2021-11-13 01:24:13</th>\n",
       "      <td>0</td>\n",
       "      <td>20.21</td>\n",
       "      <td>19.24</td>\n",
       "      <td>17.75</td>\n",
       "      <td>18.93</td>\n",
       "      <td>18.50</td>\n",
       "      <td>18.66</td>\n",
       "      <td>18.24</td>\n",
       "      <td>23.62</td>\n",
       "      <td>19.47</td>\n",
       "      <td>35.65</td>\n",
       "      <td>19.13</td>\n",
       "      <td>19.54</td>\n",
       "      <td>19.21</td>\n",
       "      <td>0.23</td>\n",
       "      <td>Positive</td>\n",
       "    </tr>\n",
       "    <tr>\n",
       "      <th>2021-11-13 01:24:23</th>\n",
       "      <td>0</td>\n",
       "      <td>20.21</td>\n",
       "      <td>19.24</td>\n",
       "      <td>17.75</td>\n",
       "      <td>18.95</td>\n",
       "      <td>18.50</td>\n",
       "      <td>18.66</td>\n",
       "      <td>18.24</td>\n",
       "      <td>23.62</td>\n",
       "      <td>19.49</td>\n",
       "      <td>35.83</td>\n",
       "      <td>19.13</td>\n",
       "      <td>19.49</td>\n",
       "      <td>19.21</td>\n",
       "      <td>0.25</td>\n",
       "      <td>Positive</td>\n",
       "    </tr>\n",
       "    <tr>\n",
       "      <th>2021-11-13 01:24:34</th>\n",
       "      <td>0</td>\n",
       "      <td>20.18</td>\n",
       "      <td>19.24</td>\n",
       "      <td>17.72</td>\n",
       "      <td>18.95</td>\n",
       "      <td>18.50</td>\n",
       "      <td>18.66</td>\n",
       "      <td>18.24</td>\n",
       "      <td>23.65</td>\n",
       "      <td>19.49</td>\n",
       "      <td>36.03</td>\n",
       "      <td>19.13</td>\n",
       "      <td>19.44</td>\n",
       "      <td>19.21</td>\n",
       "      <td>0.25</td>\n",
       "      <td>Positive</td>\n",
       "    </tr>\n",
       "    <tr>\n",
       "      <th>2021-11-13 01:24:44</th>\n",
       "      <td>0</td>\n",
       "      <td>20.18</td>\n",
       "      <td>19.24</td>\n",
       "      <td>17.72</td>\n",
       "      <td>18.95</td>\n",
       "      <td>18.53</td>\n",
       "      <td>18.66</td>\n",
       "      <td>18.24</td>\n",
       "      <td>23.62</td>\n",
       "      <td>19.52</td>\n",
       "      <td>36.22</td>\n",
       "      <td>19.11</td>\n",
       "      <td>19.44</td>\n",
       "      <td>19.18</td>\n",
       "      <td>0.28</td>\n",
       "      <td>Positive</td>\n",
       "    </tr>\n",
       "    <tr>\n",
       "      <th>2021-11-13 01:24:54</th>\n",
       "      <td>0</td>\n",
       "      <td>20.18</td>\n",
       "      <td>19.24</td>\n",
       "      <td>17.70</td>\n",
       "      <td>18.95</td>\n",
       "      <td>18.53</td>\n",
       "      <td>18.66</td>\n",
       "      <td>18.24</td>\n",
       "      <td>23.62</td>\n",
       "      <td>19.54</td>\n",
       "      <td>36.45</td>\n",
       "      <td>19.11</td>\n",
       "      <td>19.42</td>\n",
       "      <td>19.18</td>\n",
       "      <td>0.30</td>\n",
       "      <td>Positive</td>\n",
       "    </tr>\n",
       "    <tr>\n",
       "      <th>2021-11-13 01:25:04</th>\n",
       "      <td>0</td>\n",
       "      <td>20.18</td>\n",
       "      <td>19.24</td>\n",
       "      <td>17.70</td>\n",
       "      <td>18.95</td>\n",
       "      <td>18.53</td>\n",
       "      <td>18.66</td>\n",
       "      <td>18.24</td>\n",
       "      <td>23.62</td>\n",
       "      <td>19.54</td>\n",
       "      <td>36.69</td>\n",
       "      <td>19.11</td>\n",
       "      <td>19.36</td>\n",
       "      <td>19.18</td>\n",
       "      <td>0.30</td>\n",
       "      <td>Positive</td>\n",
       "    </tr>\n",
       "  </tbody>\n",
       "</table>\n",
       "</div>"
      ],
      "text/plain": [
       "parameter_name       ProcessId     s1    s10    s11    s12    s13     s2  \\\n",
       "datetime                                                                   \n",
       "2021-11-13 01:22:43          0  20.29  19.24  17.85  18.93  18.45  18.69   \n",
       "2021-11-13 01:22:53          0  20.29  19.24  17.85  18.93  18.45  18.69   \n",
       "2021-11-13 01:23:03          0  20.26  19.24  17.85  18.93  18.45  18.69   \n",
       "2021-11-13 01:23:13          0  20.26  19.24  17.83  18.93  18.45  18.66   \n",
       "2021-11-13 01:23:23          0  20.24  19.24  17.83  18.93  18.45  18.69   \n",
       "2021-11-13 01:23:33          0  20.24  19.24  17.83  18.93  18.48  18.66   \n",
       "2021-11-13 01:23:43          0  20.24  19.24  17.80  18.93  18.48  18.66   \n",
       "2021-11-13 01:23:53          0  20.21  19.26  17.80  18.95  18.48  18.66   \n",
       "2021-11-13 01:24:03          0  20.21  19.24  17.77  18.95  18.50  18.66   \n",
       "2021-11-13 01:24:13          0  20.21  19.24  17.75  18.93  18.50  18.66   \n",
       "2021-11-13 01:24:23          0  20.21  19.24  17.75  18.95  18.50  18.66   \n",
       "2021-11-13 01:24:34          0  20.18  19.24  17.72  18.95  18.50  18.66   \n",
       "2021-11-13 01:24:44          0  20.18  19.24  17.72  18.95  18.53  18.66   \n",
       "2021-11-13 01:24:54          0  20.18  19.24  17.70  18.95  18.53  18.66   \n",
       "2021-11-13 01:25:04          0  20.18  19.24  17.70  18.95  18.53  18.66   \n",
       "\n",
       "parameter_name          s3     s4     s5     s6     s7     s8     s9  s5-s10  \\\n",
       "datetime                                                                       \n",
       "2021-11-13 01:22:43  18.24  23.67  19.31  34.59  19.18  19.72  19.31    0.07   \n",
       "2021-11-13 01:22:53  18.24  23.67  19.34  34.59  19.18  19.70  19.31    0.10   \n",
       "2021-11-13 01:23:03  18.24  23.67  19.34  34.65  19.16  19.67  19.29    0.10   \n",
       "2021-11-13 01:23:13  18.24  23.67  19.39  34.75  19.16  19.67  19.29    0.15   \n",
       "2021-11-13 01:23:23  18.24  23.65  19.42  34.88  19.16  19.62  19.29    0.18   \n",
       "2021-11-13 01:23:33  18.24  23.65  19.42  35.01  19.16  19.59  19.26    0.18   \n",
       "2021-11-13 01:23:43  18.24  23.67  19.44  35.13  19.16  19.62  19.24    0.20   \n",
       "2021-11-13 01:23:53  18.24  23.67  19.47  35.31  19.13  19.57  19.24    0.21   \n",
       "2021-11-13 01:24:03  18.24  23.67  19.47  35.49  19.13  19.54  19.24    0.23   \n",
       "2021-11-13 01:24:13  18.24  23.62  19.47  35.65  19.13  19.54  19.21    0.23   \n",
       "2021-11-13 01:24:23  18.24  23.62  19.49  35.83  19.13  19.49  19.21    0.25   \n",
       "2021-11-13 01:24:34  18.24  23.65  19.49  36.03  19.13  19.44  19.21    0.25   \n",
       "2021-11-13 01:24:44  18.24  23.62  19.52  36.22  19.11  19.44  19.18    0.28   \n",
       "2021-11-13 01:24:54  18.24  23.62  19.54  36.45  19.11  19.42  19.18    0.30   \n",
       "2021-11-13 01:25:04  18.24  23.62  19.54  36.69  19.11  19.36  19.18    0.30   \n",
       "\n",
       "parameter_name      is_s5_minus_s10_positive  \n",
       "datetime                                      \n",
       "2021-11-13 01:22:43                 Positive  \n",
       "2021-11-13 01:22:53                 Positive  \n",
       "2021-11-13 01:23:03                 Positive  \n",
       "2021-11-13 01:23:13                 Positive  \n",
       "2021-11-13 01:23:23                 Positive  \n",
       "2021-11-13 01:23:33                 Positive  \n",
       "2021-11-13 01:23:43                 Positive  \n",
       "2021-11-13 01:23:53                 Positive  \n",
       "2021-11-13 01:24:03                 Positive  \n",
       "2021-11-13 01:24:13                 Positive  \n",
       "2021-11-13 01:24:23                 Positive  \n",
       "2021-11-13 01:24:34                 Positive  \n",
       "2021-11-13 01:24:44                 Positive  \n",
       "2021-11-13 01:24:54                 Positive  \n",
       "2021-11-13 01:25:04                 Positive  "
      ]
     },
     "execution_count": 85,
     "metadata": {},
     "output_type": "execute_result"
    }
   ],
   "source": [
    "data.head(15)"
   ]
  },
  {
   "cell_type": "markdown",
   "id": "a17acfc2",
   "metadata": {},
   "source": [
    "Counting positive and negative labels"
   ]
  },
  {
   "cell_type": "code",
   "execution_count": 86,
   "id": "bed78e9a",
   "metadata": {},
   "outputs": [
    {
     "data": {
      "text/plain": [
       "<bound method Series.unique of Positive    11645\n",
       "Negative     1212\n",
       "Name: is_s5_minus_s10_positive, dtype: int64>"
      ]
     },
     "execution_count": 86,
     "metadata": {},
     "output_type": "execute_result"
    }
   ],
   "source": [
    "data['is_s5_minus_s10_positive'].value_counts().unique"
   ]
  },
  {
   "cell_type": "markdown",
   "id": "58557bf7",
   "metadata": {},
   "source": [
    "Bar plot for positive and negative labels "
   ]
  },
  {
   "cell_type": "code",
   "execution_count": 87,
   "id": "9da4eda5",
   "metadata": {},
   "outputs": [
    {
     "data": {
      "image/png": "[encoded data removed]",
      "text/plain": [
       "<Figure size 432x288 with 1 Axes>"
      ]
     },
     "metadata": {
      "needs_background": "light"
     },
     "output_type": "display_data"
    }
   ],
   "source": [
    "x=data['is_s5_minus_s10_positive'].value_counts().values\n",
    "plot=sns.barplot([\"Positive\",\"Negative\"],x)\n",
    "plot.set(xlabel='Labels', ylabel='Number of Data')\n",
    "plt.show()"
   ]
  },
  {
   "cell_type": "markdown",
   "id": "25816402",
   "metadata": {},
   "source": [
    "Selecting positive and negative values as labels "
   ]
  },
  {
   "cell_type": "code",
   "execution_count": 88,
   "id": "88e9a596",
   "metadata": {},
   "outputs": [],
   "source": [
    "labels=data['is_s5_minus_s10_positive']"
   ]
  },
  {
   "cell_type": "markdown",
   "id": "f2e36c89",
   "metadata": {},
   "source": [
    "Deleting labels from data"
   ]
  },
  {
   "cell_type": "code",
   "execution_count": 89,
   "id": "503a86c8",
   "metadata": {},
   "outputs": [],
   "source": [
    "data=data.drop('is_s5_minus_s10_positive',axis=1)\n"
   ]
  },
  {
   "cell_type": "markdown",
   "id": "fed4e51d",
   "metadata": {},
   "source": [
    "Deleting 's5-s10' column from data in order to avoid overfitting"
   ]
  },
  {
   "cell_type": "code",
   "execution_count": 90,
   "id": "9d26e450",
   "metadata": {},
   "outputs": [],
   "source": [
    "data=data.drop('s5-s10',axis=1)"
   ]
  },
  {
   "cell_type": "markdown",
   "id": "1fa2f14d",
   "metadata": {},
   "source": [
    "**Normalize Data**"
   ]
  },
  {
   "cell_type": "markdown",
   "id": "a720fc80",
   "metadata": {},
   "source": [
    "Normalizing data for classification"
   ]
  },
  {
   "cell_type": "code",
   "execution_count": 91,
   "id": "4b9398fc",
   "metadata": {},
   "outputs": [],
   "source": [
    "X=normalize(data)"
   ]
  },
  {
   "cell_type": "markdown",
   "id": "098476d6",
   "metadata": {},
   "source": [
    "ProcessId column does not have any information, for this reason, we removed it."
   ]
  },
  {
   "cell_type": "code",
   "execution_count": 92,
   "id": "e1c79d21",
   "metadata": {},
   "outputs": [],
   "source": [
    "X=X.drop('ProcessId',axis=1)"
   ]
  },
  {
   "cell_type": "markdown",
   "id": "2e93e662",
   "metadata": {},
   "source": [
    "**Cross Validation**"
   ]
  },
  {
   "cell_type": "markdown",
   "id": "7c2cd5d3",
   "metadata": {},
   "source": [
    "We split the data into the proportion of 80% train and 20% test. Also, each class sample is split with this rate. We used the train_test_split of the sci-kit learn method for this task."
   ]
  },
  {
   "cell_type": "code",
   "execution_count": 93,
   "id": "25f6dbbd",
   "metadata": {},
   "outputs": [],
   "source": [
    "x_train, x_test, y_train, y_test = train_test_split(X, labels, test_size=.2, random_state=1,stratify=labels)"
   ]
  },
  {
   "cell_type": "markdown",
   "id": "e2efde99",
   "metadata": {},
   "source": [
    "**Classification Methods**"
   ]
  },
  {
   "cell_type": "markdown",
   "id": "2a61f8b8",
   "metadata": {},
   "source": [
    "We used five different machine learning algorithms to train and test the dataset. These algorithms are Logistic Regression,Random Forest, Naive Bayes, K-Nearest Neighbor, and Support Vector Machine. The purpose of using different machine learning algorithms is to compare the results and measure the performance of the model."
   ]
  },
  {
   "cell_type": "markdown",
   "id": "f711656c",
   "metadata": {},
   "source": [
    "**1)Random Forest**"
   ]
  },
  {
   "cell_type": "code",
   "execution_count": 96,
   "id": "b8455959",
   "metadata": {},
   "outputs": [
    {
     "name": "stdout",
     "output_type": "stream",
     "text": [
      "Classification Accuracy:99.53\n",
      "\n",
      "0:Negative, 1:Positive\n",
      "Confusion Matrix:\n",
      "[[ 234    4]\n",
      " [   8 2326]]\n",
      "\n",
      "Classification Report:\n",
      "              precision    recall  f1-score   support\n",
      "\n",
      "    Negative       0.97      0.98      0.97       238\n",
      "    Positive       1.00      1.00      1.00      2334\n",
      "\n",
      "    accuracy                           1.00      2572\n",
      "   macro avg       0.98      0.99      0.99      2572\n",
      "weighted avg       1.00      1.00      1.00      2572\n",
      "\n"
     ]
    }
   ],
   "source": [
    "from sklearn.metrics import accuracy_score,confusion_matrix,classification_report\n",
    "#create model\n",
    "rf = RandomForestClassifier(n_estimators=25,random_state=4)\n",
    "#fit model\n",
    "rf.fit(x_train,y_train)\n",
    "#predict test data\n",
    "y_test_pred2 = rf.predict(x_test)\n",
    "#calculate classification accuray\n",
    "rf_acc=accuracy_score(y_test_pred2,y_test)\n",
    "\n",
    "#print classification result\n",
    "print(\"Classification Accuracy:\"+str(round(rf_acc*100,2)))\n",
    "print(\"\\n0:Negative, 1:Positive\")\n",
    "print(\"Confusion Matrix:\\n%s\"%confusion_matrix(y_test_pred2,y_test))\n",
    "print(\"\\nClassification Report:\\n%s\"%classification_report(y_test_pred2,y_test))"
   ]
  },
  {
   "cell_type": "markdown",
   "id": "e820abcd",
   "metadata": {},
   "source": [
    "**2)Support Vector Machine**"
   ]
  },
  {
   "cell_type": "code",
   "execution_count": 97,
   "id": "b9d13586",
   "metadata": {},
   "outputs": [
    {
     "name": "stdout",
     "output_type": "stream",
     "text": [
      "Classification Accuracy:93.58\n",
      "\n",
      "0:Negative, 1:Positive\n",
      "Confusion Matrix:\n",
      "[[  77    0]\n",
      " [ 165 2330]]\n",
      "\n",
      "Classification Report:\n",
      "              precision    recall  f1-score   support\n",
      "\n",
      "    Negative       0.32      1.00      0.48        77\n",
      "    Positive       1.00      0.93      0.97      2495\n",
      "\n",
      "    accuracy                           0.94      2572\n",
      "   macro avg       0.66      0.97      0.72      2572\n",
      "weighted avg       0.98      0.94      0.95      2572\n",
      "\n"
     ]
    }
   ],
   "source": [
    "#create a support vector model\n",
    "svc = SVC(kernel = 'rbf', random_state = 42)\n",
    "#fit model\n",
    "svc.fit(x_train, y_train)\n",
    "#predict test data\n",
    "y_test_pred6 = svc.predict(x_test)\n",
    "#calculate classification accuracy\n",
    "svc_acc=accuracy_score(y_test_pred6,y_test)\n",
    "\n",
    "#Print classification results\n",
    "print(\"Classification Accuracy:\"+str(round(svc_acc*100,2)))\n",
    "print(\"\\n0:Negative, 1:Positive\")\n",
    "print(\"Confusion Matrix:\\n%s\"%confusion_matrix(y_test_pred6,y_test))\n",
    "print(\"\\nClassification Report:\\n%s\"%classification_report(y_test_pred6,y_test))"
   ]
  },
  {
   "cell_type": "markdown",
   "id": "1744898e",
   "metadata": {},
   "source": [
    "**3)Logistic Regression**"
   ]
  },
  {
   "cell_type": "code",
   "execution_count": 98,
   "id": "d65aa01d",
   "metadata": {},
   "outputs": [
    {
     "name": "stdout",
     "output_type": "stream",
     "text": [
      "Classification Accuracy:93.12\n",
      "\n",
      "0:Negative, 1:Positive\n",
      "Confusion Matrix:\n",
      "[[  67    2]\n",
      " [ 175 2328]]\n",
      "\n",
      "Classification Report:\n",
      "              precision    recall  f1-score   support\n",
      "\n",
      "    Negative       0.28      0.97      0.43        69\n",
      "    Positive       1.00      0.93      0.96      2503\n",
      "\n",
      "    accuracy                           0.93      2572\n",
      "   macro avg       0.64      0.95      0.70      2572\n",
      "weighted avg       0.98      0.93      0.95      2572\n",
      "\n"
     ]
    }
   ],
   "source": [
    "lr = LogisticRegression(penalty='l2',C=0.1)\n",
    "\n",
    "#fit model\n",
    "lr.fit(x_train,y_train)\n",
    "#predict test \n",
    "y_test_pred1 = lr.predict(x_test)\n",
    "#calculate classification accuracy\n",
    "lr_acc=accuracy_score(y_test_pred1,y_test)\n",
    "\n",
    "#Print classification results\n",
    "print(\"Classification Accuracy:\"+str(round(lr_acc*100,2)))\n",
    "print(\"\\n0:Negative, 1:Positive\")\n",
    "print(\"Confusion Matrix:\\n%s\"%confusion_matrix(y_test_pred1,y_test))\n",
    "print(\"\\nClassification Report:\\n%s\"%classification_report(y_test_pred1,y_test))"
   ]
  },
  {
   "cell_type": "markdown",
   "id": "1dedec34",
   "metadata": {},
   "source": [
    "**4)K-Neighboors**"
   ]
  },
  {
   "cell_type": "code",
   "execution_count": 99,
   "id": "c31c5d67",
   "metadata": {},
   "outputs": [
    {
     "name": "stdout",
     "output_type": "stream",
     "text": [
      "Classification Accuracy:98.72\n",
      "\n",
      "0:Negative, 1:Positive\n",
      "Confusion Matrix:\n",
      "[[ 219   10]\n",
      " [  23 2320]]\n",
      "\n",
      "Classification Report:\n",
      "              precision    recall  f1-score   support\n",
      "\n",
      "    Negative       0.90      0.96      0.93       229\n",
      "    Positive       1.00      0.99      0.99      2343\n",
      "\n",
      "    accuracy                           0.99      2572\n",
      "   macro avg       0.95      0.97      0.96      2572\n",
      "weighted avg       0.99      0.99      0.99      2572\n",
      "\n"
     ]
    }
   ],
   "source": [
    "#create a KNeighboors Classifier model\n",
    "knn=KNeighborsClassifier(n_neighbors=5)\n",
    "#fit model\n",
    "knn.fit(x_train,y_train)\n",
    "#predict test data\n",
    "y_test_pred3 = knn.predict(x_test)\n",
    "#calculate classification accuracy\n",
    "knn_acc=accuracy_score(y_test_pred3,y_test)\n",
    "\n",
    "#print classification results\n",
    "print(\"Classification Accuracy:\"+str(round(knn_acc*100,2)))\n",
    "print(\"\\n0:Negative, 1:Positive\")\n",
    "print(\"Confusion Matrix:\\n%s\"%confusion_matrix(y_test_pred3,y_test))\n",
    "print(\"\\nClassification Report:\\n%s\"%classification_report(y_test_pred3,y_test))"
   ]
  },
  {
   "cell_type": "markdown",
   "id": "7836b2a6",
   "metadata": {},
   "source": [
    "**5)Naive Bayes**"
   ]
  },
  {
   "cell_type": "code",
   "execution_count": 100,
   "id": "f97e5657",
   "metadata": {},
   "outputs": [
    {
     "name": "stdout",
     "output_type": "stream",
     "text": [
      "Classification Accuracy:92.85\n",
      "\n",
      "0:Negative, 1:Positive\n",
      "Confusion Matrix:\n",
      "[[  58    0]\n",
      " [ 184 2330]]\n",
      "\n",
      "Classification Report:\n",
      "              precision    recall  f1-score   support\n",
      "\n",
      "    Negative       0.24      1.00      0.39        58\n",
      "    Positive       1.00      0.93      0.96      2514\n",
      "\n",
      "    accuracy                           0.93      2572\n",
      "   macro avg       0.62      0.96      0.67      2572\n",
      "weighted avg       0.98      0.93      0.95      2572\n",
      "\n"
     ]
    }
   ],
   "source": [
    "nb = GaussianNB()\n",
    "#fit model\n",
    "nb.fit(x_train,y_train)\n",
    "#predict test data \n",
    "y_test_pred4 = nb.predict(x_test)\n",
    "#calculate classification accuracy\n",
    "nb_acc=accuracy_score(y_test_pred4,y_test)\n",
    "\n",
    "#print classification results\n",
    "print(\"Classification Accuracy:\"+str(round(nb_acc*100,2)))\n",
    "print(\"\\n0:Negative, 1:Positive\")\n",
    "print(\"Confusion Matrix:\\n%s\"%confusion_matrix(y_test_pred4,y_test))\n",
    "print(\"\\nClassification Report:\\n%s\"%classification_report(y_test_pred4,y_test))"
   ]
  },
  {
   "cell_type": "markdown",
   "id": "986728fa",
   "metadata": {},
   "source": [
    "## Comparing Accuracy of Model"
   ]
  },
  {
   "cell_type": "markdown",
   "id": "e56e19f3",
   "metadata": {},
   "source": [
    "Random Forest has the highest accuracy when we compare other algorithms.As seen in the figure, KNN, SVM,Logistic Regression, and Naive Bayes follow the Random Forest respectively."
   ]
  },
  {
   "cell_type": "code",
   "execution_count": 101,
   "id": "ead0bf89",
   "metadata": {},
   "outputs": [
    {
     "data": {
      "text/plain": [
       "Text(0.5, 1.0, 'Model Accuracies')"
      ]
     },
     "execution_count": 101,
     "metadata": {},
     "output_type": "execute_result"
    },
    {
     "data": {
      "image/png": "[encoded data removed]",
      "text/plain": [
       "<Figure size 576x504 with 1 Axes>"
      ]
     },
     "metadata": {
      "needs_background": "light"
     },
     "output_type": "display_data"
    }
   ],
   "source": [
    "plt.figure(figsize= (8,7))\n",
    "ac = [lr_acc,rf_acc,knn_acc,nb_acc,svc_acc]\n",
    "name = ['Logistic Regression','Random Forest','knn','Naive Bayes','SVM']\n",
    "sns.barplot(x = ac,y = name)\n",
    "plt.title(\"Model Accuracies\", fontsize=16, fontweight=\"bold\")"
   ]
  }
 ],
 "metadata": {
  "kernelspec": {
   "display_name": "Python 3 (ipykernel)",
   "language": "python",
   "name": "python3"
  },
  "language_info": {
   "codemirror_mode": {
    "name": "ipython",
    "version": 3
   },
   "file_extension": ".py",
   "mimetype": "text/x-python",
   "name": "python",
   "nbconvert_exporter": "python",
   "pygments_lexer": "ipython3",
   "version": "3.9.1"
  }
 },
 "nbformat": 4,
 "nbformat_minor": 5
}
